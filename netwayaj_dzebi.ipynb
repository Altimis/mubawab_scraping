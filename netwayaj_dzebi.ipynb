{
 "cells": [
  {
   "cell_type": "code",
   "execution_count": 2,
   "id": "46486d41",
   "metadata": {},
   "outputs": [],
   "source": [
    "import pandas as pd\n",
    "import numpy as np\n",
    "import itertools\n",
    "from datetime import datetime\n",
    "\n",
    "from sklearn.ensemble import RandomForestClassifier\n",
    "from sklearn.model_selection import train_test_split\n",
    "\n",
    "from sklearn import tree\n",
    "from sklearn.tree import DecisionTreeRegressor\n",
    "from sklearn.ensemble import RandomForestRegressor\n",
    "from sklearn.model_selection import train_test_split\n",
    "from sklearn.linear_model import LinearRegression\n",
    "from sklearn.ensemble import RandomForestRegressor\n",
    "from sklearn.metrics import mean_squared_error\n",
    "from sklearn.metrics import mean_absolute_error\n",
    "from sklearn.model_selection import cross_val_score\n",
    "from sklearn.model_selection import GridSearchCV\n",
    "from sklearn.model_selection import RandomizedSearchCV\n",
    "from sklearn.preprocessing import StandardScaler\n",
    "from sklearn.decomposition import PCA\n",
    "import xgboost as xgb\n",
    "\n",
    "%matplotlib inline\n",
    "\n",
    "import matplotlib.pyplot as plt\n",
    "from matplotlib.pylab import rcParams\n",
    "rcParams['figure.figsize'] = 15, 6\n",
    "from IPython.display import display\n",
    "\n",
    "from scipy.stats import randint\n",
    "\n",
    "import seaborn as sns\n",
    "\n",
    "sns.set_style('whitegrid')\n",
    "%config InlineBackend.figure_format = 'retina'"
   ]
  },
  {
   "cell_type": "code",
   "execution_count": 3,
   "id": "8c6f2a0d",
   "metadata": {},
   "outputs": [],
   "source": [
    "df_original = pd.read_csv('data_ml_test.csv',index_col=[0])\n",
    "df = df_original.copy()"
   ]
  },
  {
   "cell_type": "markdown",
   "id": "d61adf44",
   "metadata": {},
   "source": [
    "### Vizualize"
   ]
  },
  {
   "cell_type": "code",
   "execution_count": 4,
   "id": "cf59595b",
   "metadata": {},
   "outputs": [
    {
     "data": {
      "text/plain": [
       "Index(['date', 'arrondissement', 'offer link', 'title', 'price',\n",
       "       'localization', 'description', 'more', 'caracteristiques', 'X', 'Y',\n",
       "       'type_link', 'type_title', 'surface', 'pieces', 'chambre', 'bains',\n",
       "       'age', 'etage', 'Etat', 'TV', 'Marbre', 'Antenne parabolique',\n",
       "       'Carrelage', 'Terrasse', 'Concierge', 'Four', 'Climatisation',\n",
       "       'Vue sur les montagnes', 'Réfrigérateur', 'Chauffage central',\n",
       "       'Salon Marocain', 'Cheminée', 'Salon européen', 'Garage', 'Micro-ondes',\n",
       "       'Double vitrage', 'Jardin', 'Internet', 'Chambre rangement',\n",
       "       'Ascenseur', 'Machine à laver', 'Piscine', 'Sécurité', 'Porte blindée',\n",
       "       'Vue sur mer', 'Cuisine équipée', 'Parquet', 'prix/m²'],\n",
       "      dtype='object')"
      ]
     },
     "execution_count": 4,
     "metadata": {},
     "output_type": "execute_result"
    }
   ],
   "source": [
    "df.columns"
   ]
  },
  {
   "cell_type": "code",
   "execution_count": 5,
   "id": "2472e788",
   "metadata": {},
   "outputs": [
    {
     "data": {
      "text/plain": [
       "Bon état     5476\n",
       "Nouveau      1674\n",
       "À rénover     439\n",
       "Name: Etat, dtype: int64"
      ]
     },
     "execution_count": 5,
     "metadata": {},
     "output_type": "execute_result"
    }
   ],
   "source": [
    "df[\"Etat\"].value_counts()"
   ]
  },
  {
   "cell_type": "code",
   "execution_count": 6,
   "id": "23e19a8d",
   "metadata": {},
   "outputs": [
    {
     "data": {
      "text/plain": [
       "10-20 ans          1848\n",
       "5-10 ans           1672\n",
       "1-5 ans             871\n",
       "Moins d'un an       513\n",
       "20-30 ans           490\n",
       "30-50 ans           151\n",
       "50-70 ans            35\n",
       "70-100 ans            5\n",
       "Plus de 100 ans       1\n",
       "Name: age, dtype: int64"
      ]
     },
     "execution_count": 6,
     "metadata": {},
     "output_type": "execute_result"
    }
   ],
   "source": [
    "df.age.value_counts()"
   ]
  },
  {
   "cell_type": "code",
   "execution_count": 336,
   "id": "35b973ea",
   "metadata": {},
   "outputs": [
    {
     "data": {
      "text/plain": [
       "Maârif           1748\n",
       "Anfa             1561\n",
       "Hay-Hassani      1297\n",
       "Aïn-Chock        1122\n",
       "Sidi-Belyout      507\n",
       "Roches-Noires     396\n",
       "Aïn-Sebaâ         363\n",
       "Sidi-Moumen       330\n",
       "Bernoussi         283\n",
       "Mers-Sultan       249\n",
       "Moulay-Rachid     117\n",
       "Hay-Mohammadi      89\n",
       "Al-Fida            84\n",
       "Ben-M'sick         66\n",
       "Sidi-Othmane       66\n",
       "Sbata              50\n",
       "Name: arrondissement, dtype: int64"
      ]
     },
     "execution_count": 336,
     "metadata": {},
     "output_type": "execute_result"
    }
   ],
   "source": [
    "df.arrondissement.value_counts()"
   ]
  },
  {
   "cell_type": "code",
   "execution_count": 337,
   "id": "58030621",
   "metadata": {},
   "outputs": [],
   "source": [
    "df['type'] = df[df['type_link']==df['type_title']]['type_link']"
   ]
  },
  {
   "cell_type": "code",
   "execution_count": 338,
   "id": "c6e9906f",
   "metadata": {},
   "outputs": [
    {
     "data": {
      "text/plain": [
       "A         5922\n",
       "V         1157\n",
       "Jesspa     413\n",
       "M          405\n",
       "S          249\n",
       "D          116\n",
       "I           40\n",
       "R            2\n",
       "Name: type, dtype: int64"
      ]
     },
     "execution_count": 338,
     "metadata": {},
     "output_type": "execute_result"
    }
   ],
   "source": [
    "df['type'].value_counts()"
   ]
  },
  {
   "cell_type": "code",
   "execution_count": 339,
   "id": "629bb8a7",
   "metadata": {},
   "outputs": [
    {
     "data": {
      "text/plain": [
       "1160"
      ]
     },
     "execution_count": 339,
     "metadata": {},
     "output_type": "execute_result"
    }
   ],
   "source": [
    "df.price.isnull().sum()"
   ]
  },
  {
   "cell_type": "markdown",
   "id": "6d359e02",
   "metadata": {},
   "source": [
    "## Data prep"
   ]
  },
  {
   "cell_type": "markdown",
   "id": "6823d578",
   "metadata": {},
   "source": [
    "### Filter "
   ]
  },
  {
   "cell_type": "code",
   "execution_count": 340,
   "id": "bd611fb9",
   "metadata": {},
   "outputs": [
    {
     "name": "stdout",
     "output_type": "stream",
     "text": [
      "<class 'pandas.core.frame.DataFrame'>\n",
      "Int64Index: 4765 entries, 2 to 8325\n",
      "Data columns (total 38 columns):\n",
      " #   Column                 Non-Null Count  Dtype  \n",
      "---  ------                 --------------  -----  \n",
      " 0   price                  4765 non-null   float64\n",
      " 1   X                      4765 non-null   float64\n",
      " 2   Y                      4765 non-null   float64\n",
      " 3   surface                4765 non-null   float64\n",
      " 4   pieces                 4744 non-null   float64\n",
      " 5   chambre                4765 non-null   float64\n",
      " 6   bains                  4765 non-null   float64\n",
      " 7   age                    3388 non-null   object \n",
      " 8   etage                  3723 non-null   float64\n",
      " 9   Etat                   4525 non-null   object \n",
      " 10  TV                     612 non-null    float64\n",
      " 11  Marbre                 1752 non-null   float64\n",
      " 12  Antenne parabolique    1846 non-null   float64\n",
      " 13  Carrelage              965 non-null    float64\n",
      " 14  Terrasse               2246 non-null   float64\n",
      " 15  Concierge              2587 non-null   float64\n",
      " 16  Four                   1504 non-null   float64\n",
      " 17  Climatisation          1617 non-null   float64\n",
      " 18  Vue sur les montagnes  31 non-null     float64\n",
      " 19  Réfrigérateur          652 non-null    float64\n",
      " 20  Chauffage central      404 non-null    float64\n",
      " 21  Salon Marocain         2115 non-null   float64\n",
      " 22  Cheminée               923 non-null    float64\n",
      " 23  Salon européen         1810 non-null   float64\n",
      " 24  Garage                 3037 non-null   float64\n",
      " 25  Micro-ondes            485 non-null    float64\n",
      " 26  Double vitrage         847 non-null    float64\n",
      " 27  Jardin                 894 non-null    float64\n",
      " 28  Internet               625 non-null    float64\n",
      " 29  Chambre rangement      816 non-null    float64\n",
      " 30  Ascenseur              3113 non-null   float64\n",
      " 31  Machine à laver        599 non-null    float64\n",
      " 32  Piscine                114 non-null    float64\n",
      " 33  Sécurité               1994 non-null   float64\n",
      " 34  Porte blindée          769 non-null    float64\n",
      " 35  Vue sur mer            124 non-null    float64\n",
      " 36  Cuisine équipée        2785 non-null   float64\n",
      " 37  Parquet                219 non-null    float64\n",
      "dtypes: float64(36), object(2)\n",
      "memory usage: 1.4+ MB\n"
     ]
    }
   ],
   "source": [
    "df = df[df['type']=='A']\n",
    "df = df[df.price.notnull()]\n",
    "df = df[df['prix/m²']>4000]\n",
    "df = df[df['prix/m²']<27000]\n",
    "df = df[df['bains']<=4]\n",
    "df = df.drop(['date',  'offer link', 'title', 'arrondissement', 'prix/m²', ''\n",
    "       'localization', 'description', 'more', 'caracteristiques', 'type_title', 'type_link', 'type'], axis = 1)\n",
    "df.info()"
   ]
  },
  {
   "cell_type": "code",
   "execution_count": 341,
   "id": "a3df3fac",
   "metadata": {},
   "outputs": [
    {
     "data": {
      "text/plain": [
       "29.5    1377\n",
       "15.0    1194\n",
       "7.5     1095\n",
       "3.0      548\n",
       "0.5      268\n",
       "25.0     228\n",
       "40.0      47\n",
       "60.0       7\n",
       "85.0       1\n",
       "Name: age, dtype: int64"
      ]
     },
     "execution_count": 341,
     "metadata": {},
     "output_type": "execute_result"
    }
   ],
   "source": [
    "# age\n",
    "df.age = df.age.fillna(\"\")\n",
    "age_keys = list(df.age.value_counts().keys())\n",
    "# change 40, 60 ,85 to 25 (match avito data)\n",
    "age_values = [29.5, 15.0, 7.5, 3, 0.5, 25, 40, 60, 85]\n",
    "age_dict = {k:v for k,v in zip(age_keys, age_values)}\n",
    "def parse_age(v):\n",
    "    return age_dict[v]\n",
    "df.age = df.age.apply(parse_age)\n",
    "df.age.value_counts()"
   ]
  },
  {
   "cell_type": "code",
   "execution_count": 342,
   "id": "9a9cf56b",
   "metadata": {},
   "outputs": [],
   "source": [
    "# etage\n",
    "# 1, 2, 3 and 4 are the most represented equally. the median would be a good choice to fill na values\n",
    "# df.etage.value_counts()\n",
    "df.etage = df.etage.fillna(df.etage.median())"
   ]
  },
  {
   "cell_type": "code",
   "execution_count": 343,
   "id": "b6f2fb59",
   "metadata": {},
   "outputs": [],
   "source": [
    "# etat\n",
    "df = df.dropna(subset=['Etat', 'pieces'])"
   ]
  },
  {
   "cell_type": "code",
   "execution_count": 344,
   "id": "329fc263",
   "metadata": {},
   "outputs": [],
   "source": [
    "# dtype\n",
    "df.pieces = df.pieces.astype(int)\n",
    "df.chambre = df.chambre.astype(int)\n",
    "df.bains = df.bains.astype(int)\n",
    "df.etage = df.etage.astype(int)"
   ]
  },
  {
   "cell_type": "code",
   "execution_count": 345,
   "id": "ebe5e391",
   "metadata": {},
   "outputs": [],
   "source": [
    "# categorical vars\n",
    "cat_col = df.columns[10:]\n",
    "df.fillna({k:0 for k in cat_col}, inplace=True)"
   ]
  },
  {
   "cell_type": "code",
   "execution_count": 346,
   "id": "33e42dd1",
   "metadata": {},
   "outputs": [
    {
     "data": {
      "text/plain": [
       "Bon état     3467\n",
       "Nouveau       933\n",
       "À rénover     116\n",
       "Name: Etat, dtype: int64"
      ]
     },
     "execution_count": 346,
     "metadata": {},
     "output_type": "execute_result"
    }
   ],
   "source": [
    "df.Etat.value_counts()"
   ]
  },
  {
   "cell_type": "code",
   "execution_count": 347,
   "id": "cabd4a84",
   "metadata": {},
   "outputs": [],
   "source": [
    "def parse_etat(v):\n",
    "    d = {\"Bon état\": 0, \"Nouveau\": 1, \"À rénover\": 2}\n",
    "    return d[str(v)]\n",
    "df['Etat_2'] = df.Etat.apply(parse_etat)"
   ]
  },
  {
   "cell_type": "code",
   "execution_count": 348,
   "id": "e7574b7a",
   "metadata": {},
   "outputs": [],
   "source": [
    "Etat_dummies = pd.get_dummies(df['Etat'])\n",
    "df = pd.concat([df, Etat_dummies], axis=1).drop(['Etat'], axis=1)"
   ]
  },
  {
   "cell_type": "code",
   "execution_count": 349,
   "id": "0ea70c56",
   "metadata": {},
   "outputs": [
    {
     "name": "stdout",
     "output_type": "stream",
     "text": [
      "<class 'pandas.core.frame.DataFrame'>\n",
      "Int64Index: 4516 entries, 2 to 8325\n",
      "Data columns (total 41 columns):\n",
      " #   Column                 Non-Null Count  Dtype  \n",
      "---  ------                 --------------  -----  \n",
      " 0   price                  4516 non-null   float64\n",
      " 1   X                      4516 non-null   float64\n",
      " 2   Y                      4516 non-null   float64\n",
      " 3   surface                4516 non-null   float64\n",
      " 4   pieces                 4516 non-null   int32  \n",
      " 5   chambre                4516 non-null   int32  \n",
      " 6   bains                  4516 non-null   int32  \n",
      " 7   age                    4516 non-null   float64\n",
      " 8   etage                  4516 non-null   int32  \n",
      " 9   TV                     4516 non-null   int32  \n",
      " 10  Marbre                 4516 non-null   int32  \n",
      " 11  Antenne parabolique    4516 non-null   int32  \n",
      " 12  Carrelage              4516 non-null   int32  \n",
      " 13  Terrasse               4516 non-null   int32  \n",
      " 14  Concierge              4516 non-null   int32  \n",
      " 15  Four                   4516 non-null   int32  \n",
      " 16  Climatisation          4516 non-null   int32  \n",
      " 17  Vue sur les montagnes  4516 non-null   int32  \n",
      " 18  Réfrigérateur          4516 non-null   int32  \n",
      " 19  Chauffage central      4516 non-null   int32  \n",
      " 20  Salon Marocain         4516 non-null   int32  \n",
      " 21  Cheminée               4516 non-null   int32  \n",
      " 22  Salon européen         4516 non-null   int32  \n",
      " 23  Garage                 4516 non-null   int32  \n",
      " 24  Micro-ondes            4516 non-null   int32  \n",
      " 25  Double vitrage         4516 non-null   int32  \n",
      " 26  Jardin                 4516 non-null   int32  \n",
      " 27  Internet               4516 non-null   int32  \n",
      " 28  Chambre rangement      4516 non-null   int32  \n",
      " 29  Ascenseur              4516 non-null   int32  \n",
      " 30  Machine à laver        4516 non-null   int32  \n",
      " 31  Piscine                4516 non-null   int32  \n",
      " 32  Sécurité               4516 non-null   int32  \n",
      " 33  Porte blindée          4516 non-null   int32  \n",
      " 34  Vue sur mer            4516 non-null   int32  \n",
      " 35  Cuisine équipée        4516 non-null   int32  \n",
      " 36  Parquet                4516 non-null   int32  \n",
      " 37  Etat_2                 4516 non-null   int64  \n",
      " 38  Bon état               4516 non-null   uint8  \n",
      " 39  Nouveau                4516 non-null   uint8  \n",
      " 40  À rénover              4516 non-null   uint8  \n",
      "dtypes: float64(5), int32(32), int64(1), uint8(3)\n",
      "memory usage: 824.7 KB\n"
     ]
    }
   ],
   "source": [
    "df = df.astype({k:int for k in cat_col})\n",
    "df.info()"
   ]
  },
  {
   "cell_type": "code",
   "execution_count": 350,
   "id": "3bce7b8f",
   "metadata": {},
   "outputs": [],
   "source": [
    "# normalization\n",
    "df_2 = df.copy()\n",
    "df_2.X = (df_2.X-df_2.X.min())/(df_2.X.max()-df_2.X.min())"
   ]
  },
  {
   "cell_type": "code",
   "execution_count": 351,
   "id": "20c95661",
   "metadata": {},
   "outputs": [],
   "source": [
    "df_2.Y = (df_2.Y-df_2.Y.min())/(df_2.Y.max()-df_2.Y.min())"
   ]
  },
  {
   "cell_type": "markdown",
   "id": "ebe208e2",
   "metadata": {},
   "source": [
    "### Dim reduction with RF"
   ]
  },
  {
   "cell_type": "code",
   "execution_count": 352,
   "id": "48d349d0",
   "metadata": {},
   "outputs": [],
   "source": [
    "all_columns = df_2.columns\n",
    "features = df_2[all_columns[1:]]\n",
    "target = df_2[['price']]"
   ]
  },
  {
   "cell_type": "code",
   "execution_count": 353,
   "id": "b7b3fd54",
   "metadata": {},
   "outputs": [
    {
     "name": "stderr",
     "output_type": "stream",
     "text": [
      "C:\\Users\\yassine\\AppData\\Local\\Temp/ipykernel_1128/1334013579.py:2: DataConversionWarning: A column-vector y was passed when a 1d array was expected. Please change the shape of y to (n_samples,), for example using ravel().\n",
      "  rfc.fit(features,target)\n"
     ]
    }
   ],
   "source": [
    "rfc = RandomForestClassifier()\n",
    "rfc.fit(features,target)\n",
    "importances = rfc.feature_importances_"
   ]
  },
  {
   "cell_type": "code",
   "execution_count": 354,
   "id": "970fb545",
   "metadata": {},
   "outputs": [
    {
     "data": {
      "text/html": [
       "<div>\n",
       "<style scoped>\n",
       "    .dataframe tbody tr th:only-of-type {\n",
       "        vertical-align: middle;\n",
       "    }\n",
       "\n",
       "    .dataframe tbody tr th {\n",
       "        vertical-align: top;\n",
       "    }\n",
       "\n",
       "    .dataframe thead th {\n",
       "        text-align: right;\n",
       "    }\n",
       "</style>\n",
       "<table border=\"1\" class=\"dataframe\">\n",
       "  <thead>\n",
       "    <tr style=\"text-align: right;\">\n",
       "      <th></th>\n",
       "      <th>importance</th>\n",
       "    </tr>\n",
       "    <tr>\n",
       "      <th>features</th>\n",
       "      <th></th>\n",
       "    </tr>\n",
       "  </thead>\n",
       "  <tbody>\n",
       "    <tr>\n",
       "      <th>surface</th>\n",
       "      <td>0.127729</td>\n",
       "    </tr>\n",
       "    <tr>\n",
       "      <th>Y</th>\n",
       "      <td>0.096756</td>\n",
       "    </tr>\n",
       "    <tr>\n",
       "      <th>X</th>\n",
       "      <td>0.094045</td>\n",
       "    </tr>\n",
       "    <tr>\n",
       "      <th>etage</th>\n",
       "      <td>0.069947</td>\n",
       "    </tr>\n",
       "    <tr>\n",
       "      <th>age</th>\n",
       "      <td>0.056830</td>\n",
       "    </tr>\n",
       "    <tr>\n",
       "      <th>pieces</th>\n",
       "      <td>0.054723</td>\n",
       "    </tr>\n",
       "    <tr>\n",
       "      <th>chambre</th>\n",
       "      <td>0.028477</td>\n",
       "    </tr>\n",
       "    <tr>\n",
       "      <th>Terrasse</th>\n",
       "      <td>0.026832</td>\n",
       "    </tr>\n",
       "    <tr>\n",
       "      <th>Salon Marocain</th>\n",
       "      <td>0.024347</td>\n",
       "    </tr>\n",
       "    <tr>\n",
       "      <th>bains</th>\n",
       "      <td>0.023819</td>\n",
       "    </tr>\n",
       "    <tr>\n",
       "      <th>Sécurité</th>\n",
       "      <td>0.023170</td>\n",
       "    </tr>\n",
       "    <tr>\n",
       "      <th>Cuisine équipée</th>\n",
       "      <td>0.022662</td>\n",
       "    </tr>\n",
       "    <tr>\n",
       "      <th>Antenne parabolique</th>\n",
       "      <td>0.022326</td>\n",
       "    </tr>\n",
       "    <tr>\n",
       "      <th>Jardin</th>\n",
       "      <td>0.019959</td>\n",
       "    </tr>\n",
       "    <tr>\n",
       "      <th>Concierge</th>\n",
       "      <td>0.019187</td>\n",
       "    </tr>\n",
       "    <tr>\n",
       "      <th>Four</th>\n",
       "      <td>0.018944</td>\n",
       "    </tr>\n",
       "    <tr>\n",
       "      <th>Salon européen</th>\n",
       "      <td>0.018523</td>\n",
       "    </tr>\n",
       "    <tr>\n",
       "      <th>Marbre</th>\n",
       "      <td>0.018197</td>\n",
       "    </tr>\n",
       "    <tr>\n",
       "      <th>Carrelage</th>\n",
       "      <td>0.017646</td>\n",
       "    </tr>\n",
       "    <tr>\n",
       "      <th>Climatisation</th>\n",
       "      <td>0.016856</td>\n",
       "    </tr>\n",
       "    <tr>\n",
       "      <th>Porte blindée</th>\n",
       "      <td>0.016504</td>\n",
       "    </tr>\n",
       "    <tr>\n",
       "      <th>Double vitrage</th>\n",
       "      <td>0.016258</td>\n",
       "    </tr>\n",
       "    <tr>\n",
       "      <th>Chambre rangement</th>\n",
       "      <td>0.016177</td>\n",
       "    </tr>\n",
       "    <tr>\n",
       "      <th>Garage</th>\n",
       "      <td>0.013755</td>\n",
       "    </tr>\n",
       "    <tr>\n",
       "      <th>Cheminée</th>\n",
       "      <td>0.012316</td>\n",
       "    </tr>\n",
       "    <tr>\n",
       "      <th>Ascenseur</th>\n",
       "      <td>0.012230</td>\n",
       "    </tr>\n",
       "    <tr>\n",
       "      <th>Internet</th>\n",
       "      <td>0.012168</td>\n",
       "    </tr>\n",
       "    <tr>\n",
       "      <th>Etat_2</th>\n",
       "      <td>0.011493</td>\n",
       "    </tr>\n",
       "    <tr>\n",
       "      <th>TV</th>\n",
       "      <td>0.011171</td>\n",
       "    </tr>\n",
       "    <tr>\n",
       "      <th>Bon état</th>\n",
       "      <td>0.010490</td>\n",
       "    </tr>\n",
       "    <tr>\n",
       "      <th>Nouveau</th>\n",
       "      <td>0.009828</td>\n",
       "    </tr>\n",
       "    <tr>\n",
       "      <th>Réfrigérateur</th>\n",
       "      <td>0.009354</td>\n",
       "    </tr>\n",
       "    <tr>\n",
       "      <th>Machine à laver</th>\n",
       "      <td>0.009184</td>\n",
       "    </tr>\n",
       "    <tr>\n",
       "      <th>Micro-ondes</th>\n",
       "      <td>0.008731</td>\n",
       "    </tr>\n",
       "    <tr>\n",
       "      <th>Chauffage central</th>\n",
       "      <td>0.008603</td>\n",
       "    </tr>\n",
       "    <tr>\n",
       "      <th>Parquet</th>\n",
       "      <td>0.007848</td>\n",
       "    </tr>\n",
       "    <tr>\n",
       "      <th>Vue sur mer</th>\n",
       "      <td>0.004896</td>\n",
       "    </tr>\n",
       "    <tr>\n",
       "      <th>À rénover</th>\n",
       "      <td>0.003351</td>\n",
       "    </tr>\n",
       "    <tr>\n",
       "      <th>Piscine</th>\n",
       "      <td>0.003067</td>\n",
       "    </tr>\n",
       "    <tr>\n",
       "      <th>Vue sur les montagnes</th>\n",
       "      <td>0.001600</td>\n",
       "    </tr>\n",
       "  </tbody>\n",
       "</table>\n",
       "</div>"
      ],
      "text/plain": [
       "                       importance\n",
       "features                         \n",
       "surface                  0.127729\n",
       "Y                        0.096756\n",
       "X                        0.094045\n",
       "etage                    0.069947\n",
       "age                      0.056830\n",
       "pieces                   0.054723\n",
       "chambre                  0.028477\n",
       "Terrasse                 0.026832\n",
       "Salon Marocain           0.024347\n",
       "bains                    0.023819\n",
       "Sécurité                 0.023170\n",
       "Cuisine équipée          0.022662\n",
       "Antenne parabolique      0.022326\n",
       "Jardin                   0.019959\n",
       "Concierge                0.019187\n",
       "Four                     0.018944\n",
       "Salon européen           0.018523\n",
       "Marbre                   0.018197\n",
       "Carrelage                0.017646\n",
       "Climatisation            0.016856\n",
       "Porte blindée            0.016504\n",
       "Double vitrage           0.016258\n",
       "Chambre rangement        0.016177\n",
       "Garage                   0.013755\n",
       "Cheminée                 0.012316\n",
       "Ascenseur                0.012230\n",
       "Internet                 0.012168\n",
       "Etat_2                   0.011493\n",
       "TV                       0.011171\n",
       "Bon état                 0.010490\n",
       "Nouveau                  0.009828\n",
       "Réfrigérateur            0.009354\n",
       "Machine à laver          0.009184\n",
       "Micro-ondes              0.008731\n",
       "Chauffage central        0.008603\n",
       "Parquet                  0.007848\n",
       "Vue sur mer              0.004896\n",
       "À rénover                0.003351\n",
       "Piscine                  0.003067\n",
       "Vue sur les montagnes    0.001600"
      ]
     },
     "execution_count": 354,
     "metadata": {},
     "output_type": "execute_result"
    }
   ],
   "source": [
    "d = {'features':features.columns, 'importance': importances}\n",
    "df_importance = pd.DataFrame(d)\n",
    "df_importance.set_index('features', inplace=True)\n",
    "df_importance=df_importance.sort_values(by=['importance'], ascending=[False])\n",
    "df_importance"
   ]
  },
  {
   "cell_type": "code",
   "execution_count": 355,
   "id": "8322c552",
   "metadata": {},
   "outputs": [
    {
     "data": {
      "image/png": "[encoded data removed]",
      "text/plain": [
       "<Figure size 1152x1008 with 1 Axes>"
      ]
     },
     "metadata": {
      "image/png": {
       "height": 805,
       "width": 1016
      }
     },
     "output_type": "display_data"
    }
   ],
   "source": [
    "f, ax = plt.subplots(figsize=(16, 14))\n",
    "ax = sns.barplot(x='importance',y=features.columns, data=df_importance)"
   ]
  },
  {
   "cell_type": "markdown",
   "id": "66425f50",
   "metadata": {},
   "source": [
    "### Dim reduction with PCA for price, chambre, pieces"
   ]
  },
  {
   "cell_type": "code",
   "execution_count": 288,
   "id": "e1325fa4",
   "metadata": {},
   "outputs": [
    {
     "data": {
      "image/png": "[encoded data removed]",
      "text/plain": [
       "<Figure size 1080x432 with 1 Axes>"
      ]
     },
     "metadata": {
      "needs_background": "light"
     },
     "output_type": "display_data"
    },
    {
     "name": "stdout",
     "output_type": "stream",
     "text": [
      "[0.6492083  0.15587288 0.10209478 0.09282403]\n"
     ]
    }
   ],
   "source": [
    "X_pca = df_2[[\"surface\", \"chambre\", \"pieces\", \"bains\"]]\n",
    "scaler = StandardScaler()\n",
    "X_pca_scaled = scaler.fit_transform(X_pca)\n",
    "\n",
    "#Calculate the PCAs\n",
    "pca = PCA()\n",
    "pca.fit(X_pca_scaled)\n",
    "variation = pca.explained_variance_ratio_\n",
    "\n",
    "ax = plt.gca()\n",
    "ax.set_ylabel('Variation', fontsize=16)\n",
    "ax.set_xlabel('Components', fontsize=16)\n",
    "ax.set_title('Variantion of each components and the\\n', fontsize=20)\n",
    "\n",
    "plt.bar(range(len(variation)), variation)\n",
    "plt.show()\n",
    "print(variation)"
   ]
  },
  {
   "cell_type": "code",
   "execution_count": 289,
   "id": "45a7b25b",
   "metadata": {},
   "outputs": [],
   "source": [
    "X_to_PCA = pca.fit_transform(X_pca_scaled)"
   ]
  },
  {
   "cell_type": "code",
   "execution_count": 290,
   "id": "605013c1",
   "metadata": {},
   "outputs": [
    {
     "data": {
      "image/png": "[encoded data removed]",
      "text/plain": [
       "<Figure size 1008x864 with 1 Axes>"
      ]
     },
     "metadata": {
      "needs_background": "light"
     },
     "output_type": "display_data"
    }
   ],
   "source": [
    "def horn_parallel_analysis(shape, iters=1000, percentile=95):\n",
    "    pca = PCA(n_components=shape[1])\n",
    "    eigenvals = []\n",
    "    \n",
    "    for i in range(iters):\n",
    "        rdata = np.random.normal(0,1,size=shape)\n",
    "        pca.fit(rdata)\n",
    "        eigenvals.append(pca.explained_variance_)\n",
    "    \n",
    "    eigenvals = np.array(eigenvals)\n",
    "    return np.percentile(eigenvals, percentile, axis=0)\n",
    "\n",
    "hep_pa = horn_parallel_analysis(X_to_PCA.shape, percentile=95)\n",
    "\n",
    "fig, ax = plt.subplots(figsize=(14,12))\n",
    "\n",
    "ax.plot(range(1, X_to_PCA.shape[1]+1), pca.explained_variance_, lw=2, marker='o')\n",
    "ax.plot(range(1, X_to_PCA.shape[1]+1), hep_pa, lw=2, color='darkred', marker='o')\n",
    "ax.set_title(\"Horns parallel analysis on heptathlon principal components\")\n",
    "ax.set_xlabel(\"Principal Component\")\n",
    "ax.set_ylabel(\"Eigenvalue\")\n",
    "\n",
    "plt.legend(['Actual PCA Variance Explained', \"Random Gaussian PCA Variance Explained\"])\n",
    "plt.show()"
   ]
  },
  {
   "cell_type": "code",
   "execution_count": 299,
   "id": "35c28dd8",
   "metadata": {},
   "outputs": [
    {
     "data": {
      "text/plain": [
       "PCA(n_components=1)"
      ]
     },
     "execution_count": 299,
     "metadata": {},
     "output_type": "execute_result"
    }
   ],
   "source": [
    "pca = PCA(n_components=1)\n",
    "pca.fit(X_pca_scaled)"
   ]
  },
  {
   "cell_type": "code",
   "execution_count": 300,
   "id": "d4415f39",
   "metadata": {},
   "outputs": [
    {
     "data": {
      "text/html": [
       "<div>\n",
       "<style scoped>\n",
       "    .dataframe tbody tr th:only-of-type {\n",
       "        vertical-align: middle;\n",
       "    }\n",
       "\n",
       "    .dataframe tbody tr th {\n",
       "        vertical-align: top;\n",
       "    }\n",
       "\n",
       "    .dataframe thead th {\n",
       "        text-align: right;\n",
       "    }\n",
       "</style>\n",
       "<table border=\"1\" class=\"dataframe\">\n",
       "  <thead>\n",
       "    <tr style=\"text-align: right;\">\n",
       "      <th></th>\n",
       "      <th>PC0</th>\n",
       "    </tr>\n",
       "  </thead>\n",
       "  <tbody>\n",
       "    <tr>\n",
       "      <th>surface</th>\n",
       "      <td>0.517819</td>\n",
       "    </tr>\n",
       "    <tr>\n",
       "      <th>chambre</th>\n",
       "      <td>0.520786</td>\n",
       "    </tr>\n",
       "    <tr>\n",
       "      <th>pieces</th>\n",
       "      <td>0.473677</td>\n",
       "    </tr>\n",
       "    <tr>\n",
       "      <th>bains</th>\n",
       "      <td>0.486083</td>\n",
       "    </tr>\n",
       "  </tbody>\n",
       "</table>\n",
       "</div>"
      ],
      "text/plain": [
       "              PC0\n",
       "surface  0.517819\n",
       "chambre  0.520786\n",
       "pieces   0.473677\n",
       "bains    0.486083"
      ]
     },
     "execution_count": 300,
     "metadata": {},
     "output_type": "execute_result"
    }
   ],
   "source": [
    "Dict = {}\n",
    "for i in range(len(pca.components_)):\n",
    "    Dict['PC'+str(i)]= pca.components_[i]\n",
    "    \n",
    "df_components = pd.DataFrame(Dict,index=X_pca.columns)\n",
    "df_components.head()"
   ]
  },
  {
   "cell_type": "code",
   "execution_count": 301,
   "id": "59ee936f",
   "metadata": {},
   "outputs": [
    {
     "name": "stdout",
     "output_type": "stream",
     "text": [
      "PC0 1 0.5207857519170462\n"
     ]
    }
   ],
   "source": [
    "for column in df_components.columns:\n",
    "    print (column, df_components[column].argmax(), df_components[column].max())"
   ]
  },
  {
   "cell_type": "markdown",
   "id": "12047c96",
   "metadata": {},
   "source": [
    "### Pred"
   ]
  },
  {
   "cell_type": "code",
   "execution_count": 426,
   "id": "491a0d50",
   "metadata": {},
   "outputs": [
    {
     "data": {
      "text/html": [
       "<div>\n",
       "<style scoped>\n",
       "    .dataframe tbody tr th:only-of-type {\n",
       "        vertical-align: middle;\n",
       "    }\n",
       "\n",
       "    .dataframe tbody tr th {\n",
       "        vertical-align: top;\n",
       "    }\n",
       "\n",
       "    .dataframe thead th {\n",
       "        text-align: right;\n",
       "    }\n",
       "</style>\n",
       "<table border=\"1\" class=\"dataframe\">\n",
       "  <thead>\n",
       "    <tr style=\"text-align: right;\">\n",
       "      <th></th>\n",
       "      <th>X</th>\n",
       "      <th>Y</th>\n",
       "      <th>surface</th>\n",
       "      <th>pieces</th>\n",
       "      <th>chambre</th>\n",
       "      <th>bains</th>\n",
       "      <th>age</th>\n",
       "      <th>etage</th>\n",
       "      <th>TV</th>\n",
       "      <th>Marbre</th>\n",
       "      <th>...</th>\n",
       "      <th>Piscine</th>\n",
       "      <th>Sécurité</th>\n",
       "      <th>Porte blindée</th>\n",
       "      <th>Vue sur mer</th>\n",
       "      <th>Cuisine équipée</th>\n",
       "      <th>Parquet</th>\n",
       "      <th>Etat_2</th>\n",
       "      <th>Bon état</th>\n",
       "      <th>Nouveau</th>\n",
       "      <th>À rénover</th>\n",
       "    </tr>\n",
       "  </thead>\n",
       "  <tbody>\n",
       "    <tr>\n",
       "      <th>2</th>\n",
       "      <td>0.895114</td>\n",
       "      <td>0.167946</td>\n",
       "      <td>87.0</td>\n",
       "      <td>3</td>\n",
       "      <td>2</td>\n",
       "      <td>2</td>\n",
       "      <td>29.5</td>\n",
       "      <td>3</td>\n",
       "      <td>0</td>\n",
       "      <td>0</td>\n",
       "      <td>...</td>\n",
       "      <td>0</td>\n",
       "      <td>1</td>\n",
       "      <td>0</td>\n",
       "      <td>0</td>\n",
       "      <td>1</td>\n",
       "      <td>0</td>\n",
       "      <td>0</td>\n",
       "      <td>1</td>\n",
       "      <td>0</td>\n",
       "      <td>0</td>\n",
       "    </tr>\n",
       "    <tr>\n",
       "      <th>4</th>\n",
       "      <td>0.892967</td>\n",
       "      <td>0.166851</td>\n",
       "      <td>78.0</td>\n",
       "      <td>3</td>\n",
       "      <td>2</td>\n",
       "      <td>1</td>\n",
       "      <td>29.5</td>\n",
       "      <td>3</td>\n",
       "      <td>0</td>\n",
       "      <td>0</td>\n",
       "      <td>...</td>\n",
       "      <td>0</td>\n",
       "      <td>1</td>\n",
       "      <td>1</td>\n",
       "      <td>0</td>\n",
       "      <td>0</td>\n",
       "      <td>0</td>\n",
       "      <td>0</td>\n",
       "      <td>1</td>\n",
       "      <td>0</td>\n",
       "      <td>0</td>\n",
       "    </tr>\n",
       "    <tr>\n",
       "      <th>7</th>\n",
       "      <td>0.895353</td>\n",
       "      <td>0.167937</td>\n",
       "      <td>92.0</td>\n",
       "      <td>3</td>\n",
       "      <td>2</td>\n",
       "      <td>2</td>\n",
       "      <td>3.0</td>\n",
       "      <td>4</td>\n",
       "      <td>0</td>\n",
       "      <td>1</td>\n",
       "      <td>...</td>\n",
       "      <td>0</td>\n",
       "      <td>1</td>\n",
       "      <td>0</td>\n",
       "      <td>0</td>\n",
       "      <td>1</td>\n",
       "      <td>0</td>\n",
       "      <td>0</td>\n",
       "      <td>1</td>\n",
       "      <td>0</td>\n",
       "      <td>0</td>\n",
       "    </tr>\n",
       "    <tr>\n",
       "      <th>9</th>\n",
       "      <td>0.895364</td>\n",
       "      <td>0.167950</td>\n",
       "      <td>93.0</td>\n",
       "      <td>2</td>\n",
       "      <td>2</td>\n",
       "      <td>2</td>\n",
       "      <td>3.0</td>\n",
       "      <td>8</td>\n",
       "      <td>0</td>\n",
       "      <td>1</td>\n",
       "      <td>...</td>\n",
       "      <td>0</td>\n",
       "      <td>1</td>\n",
       "      <td>0</td>\n",
       "      <td>0</td>\n",
       "      <td>1</td>\n",
       "      <td>0</td>\n",
       "      <td>0</td>\n",
       "      <td>1</td>\n",
       "      <td>0</td>\n",
       "      <td>0</td>\n",
       "    </tr>\n",
       "    <tr>\n",
       "      <th>10</th>\n",
       "      <td>0.895114</td>\n",
       "      <td>0.167946</td>\n",
       "      <td>68.0</td>\n",
       "      <td>3</td>\n",
       "      <td>2</td>\n",
       "      <td>2</td>\n",
       "      <td>15.0</td>\n",
       "      <td>5</td>\n",
       "      <td>1</td>\n",
       "      <td>0</td>\n",
       "      <td>...</td>\n",
       "      <td>0</td>\n",
       "      <td>0</td>\n",
       "      <td>0</td>\n",
       "      <td>0</td>\n",
       "      <td>1</td>\n",
       "      <td>0</td>\n",
       "      <td>0</td>\n",
       "      <td>1</td>\n",
       "      <td>0</td>\n",
       "      <td>0</td>\n",
       "    </tr>\n",
       "    <tr>\n",
       "      <th>...</th>\n",
       "      <td>...</td>\n",
       "      <td>...</td>\n",
       "      <td>...</td>\n",
       "      <td>...</td>\n",
       "      <td>...</td>\n",
       "      <td>...</td>\n",
       "      <td>...</td>\n",
       "      <td>...</td>\n",
       "      <td>...</td>\n",
       "      <td>...</td>\n",
       "      <td>...</td>\n",
       "      <td>...</td>\n",
       "      <td>...</td>\n",
       "      <td>...</td>\n",
       "      <td>...</td>\n",
       "      <td>...</td>\n",
       "      <td>...</td>\n",
       "      <td>...</td>\n",
       "      <td>...</td>\n",
       "      <td>...</td>\n",
       "      <td>...</td>\n",
       "    </tr>\n",
       "    <tr>\n",
       "      <th>8321</th>\n",
       "      <td>0.894708</td>\n",
       "      <td>0.168415</td>\n",
       "      <td>38.0</td>\n",
       "      <td>3</td>\n",
       "      <td>2</td>\n",
       "      <td>1</td>\n",
       "      <td>3.0</td>\n",
       "      <td>3</td>\n",
       "      <td>0</td>\n",
       "      <td>0</td>\n",
       "      <td>...</td>\n",
       "      <td>0</td>\n",
       "      <td>1</td>\n",
       "      <td>0</td>\n",
       "      <td>0</td>\n",
       "      <td>0</td>\n",
       "      <td>0</td>\n",
       "      <td>1</td>\n",
       "      <td>0</td>\n",
       "      <td>1</td>\n",
       "      <td>0</td>\n",
       "    </tr>\n",
       "    <tr>\n",
       "      <th>8322</th>\n",
       "      <td>0.895291</td>\n",
       "      <td>0.169110</td>\n",
       "      <td>88.0</td>\n",
       "      <td>6</td>\n",
       "      <td>2</td>\n",
       "      <td>2</td>\n",
       "      <td>7.5</td>\n",
       "      <td>2</td>\n",
       "      <td>1</td>\n",
       "      <td>1</td>\n",
       "      <td>...</td>\n",
       "      <td>0</td>\n",
       "      <td>1</td>\n",
       "      <td>1</td>\n",
       "      <td>0</td>\n",
       "      <td>1</td>\n",
       "      <td>0</td>\n",
       "      <td>0</td>\n",
       "      <td>1</td>\n",
       "      <td>0</td>\n",
       "      <td>0</td>\n",
       "    </tr>\n",
       "    <tr>\n",
       "      <th>8323</th>\n",
       "      <td>0.895745</td>\n",
       "      <td>0.167938</td>\n",
       "      <td>61.0</td>\n",
       "      <td>3</td>\n",
       "      <td>2</td>\n",
       "      <td>1</td>\n",
       "      <td>3.0</td>\n",
       "      <td>3</td>\n",
       "      <td>0</td>\n",
       "      <td>0</td>\n",
       "      <td>...</td>\n",
       "      <td>0</td>\n",
       "      <td>1</td>\n",
       "      <td>1</td>\n",
       "      <td>0</td>\n",
       "      <td>1</td>\n",
       "      <td>0</td>\n",
       "      <td>1</td>\n",
       "      <td>0</td>\n",
       "      <td>1</td>\n",
       "      <td>0</td>\n",
       "    </tr>\n",
       "    <tr>\n",
       "      <th>8324</th>\n",
       "      <td>0.895256</td>\n",
       "      <td>0.168545</td>\n",
       "      <td>80.0</td>\n",
       "      <td>6</td>\n",
       "      <td>3</td>\n",
       "      <td>1</td>\n",
       "      <td>29.5</td>\n",
       "      <td>3</td>\n",
       "      <td>0</td>\n",
       "      <td>0</td>\n",
       "      <td>...</td>\n",
       "      <td>0</td>\n",
       "      <td>0</td>\n",
       "      <td>0</td>\n",
       "      <td>0</td>\n",
       "      <td>0</td>\n",
       "      <td>0</td>\n",
       "      <td>0</td>\n",
       "      <td>1</td>\n",
       "      <td>0</td>\n",
       "      <td>0</td>\n",
       "    </tr>\n",
       "    <tr>\n",
       "      <th>8325</th>\n",
       "      <td>0.895291</td>\n",
       "      <td>0.169110</td>\n",
       "      <td>73.0</td>\n",
       "      <td>3</td>\n",
       "      <td>2</td>\n",
       "      <td>1</td>\n",
       "      <td>25.0</td>\n",
       "      <td>1</td>\n",
       "      <td>0</td>\n",
       "      <td>0</td>\n",
       "      <td>...</td>\n",
       "      <td>0</td>\n",
       "      <td>0</td>\n",
       "      <td>0</td>\n",
       "      <td>0</td>\n",
       "      <td>0</td>\n",
       "      <td>0</td>\n",
       "      <td>0</td>\n",
       "      <td>1</td>\n",
       "      <td>0</td>\n",
       "      <td>0</td>\n",
       "    </tr>\n",
       "  </tbody>\n",
       "</table>\n",
       "<p>4516 rows × 40 columns</p>\n",
       "</div>"
      ],
      "text/plain": [
       "             X         Y  surface  pieces  chambre  bains   age  etage  TV  \\\n",
       "2     0.895114  0.167946     87.0       3        2      2  29.5      3   0   \n",
       "4     0.892967  0.166851     78.0       3        2      1  29.5      3   0   \n",
       "7     0.895353  0.167937     92.0       3        2      2   3.0      4   0   \n",
       "9     0.895364  0.167950     93.0       2        2      2   3.0      8   0   \n",
       "10    0.895114  0.167946     68.0       3        2      2  15.0      5   1   \n",
       "...        ...       ...      ...     ...      ...    ...   ...    ...  ..   \n",
       "8321  0.894708  0.168415     38.0       3        2      1   3.0      3   0   \n",
       "8322  0.895291  0.169110     88.0       6        2      2   7.5      2   1   \n",
       "8323  0.895745  0.167938     61.0       3        2      1   3.0      3   0   \n",
       "8324  0.895256  0.168545     80.0       6        3      1  29.5      3   0   \n",
       "8325  0.895291  0.169110     73.0       3        2      1  25.0      1   0   \n",
       "\n",
       "      Marbre  ...  Piscine  Sécurité  Porte blindée  Vue sur mer  \\\n",
       "2          0  ...        0         1              0            0   \n",
       "4          0  ...        0         1              1            0   \n",
       "7          1  ...        0         1              0            0   \n",
       "9          1  ...        0         1              0            0   \n",
       "10         0  ...        0         0              0            0   \n",
       "...      ...  ...      ...       ...            ...          ...   \n",
       "8321       0  ...        0         1              0            0   \n",
       "8322       1  ...        0         1              1            0   \n",
       "8323       0  ...        0         1              1            0   \n",
       "8324       0  ...        0         0              0            0   \n",
       "8325       0  ...        0         0              0            0   \n",
       "\n",
       "      Cuisine équipée  Parquet  Etat_2  Bon état  Nouveau  À rénover  \n",
       "2                   1        0       0         1        0          0  \n",
       "4                   0        0       0         1        0          0  \n",
       "7                   1        0       0         1        0          0  \n",
       "9                   1        0       0         1        0          0  \n",
       "10                  1        0       0         1        0          0  \n",
       "...               ...      ...     ...       ...      ...        ...  \n",
       "8321                0        0       1         0        1          0  \n",
       "8322                1        0       0         1        0          0  \n",
       "8323                1        0       1         0        1          0  \n",
       "8324                0        0       0         1        0          0  \n",
       "8325                0        0       0         1        0          0  \n",
       "\n",
       "[4516 rows x 40 columns]"
      ]
     },
     "execution_count": 426,
     "metadata": {},
     "output_type": "execute_result"
    }
   ],
   "source": [
    "X = features[features.columns]\n",
    "y = target\n",
    "X"
   ]
  },
  {
   "cell_type": "code",
   "execution_count": 427,
   "id": "62285df6",
   "metadata": {},
   "outputs": [],
   "source": [
    "X_train, X_test, y_train, y_test = train_test_split(X, y, test_size=0.33, random_state=42)"
   ]
  },
  {
   "cell_type": "code",
   "execution_count": 428,
   "id": "8662f6e9",
   "metadata": {},
   "outputs": [
    {
     "data": {
      "text/plain": [
       "XGBRegressor(base_score=0.5, booster='gbtree', colsample_bylevel=1,\n",
       "             colsample_bynode=1, colsample_bytree=1, enable_categorical=False,\n",
       "             gamma=0, gpu_id=-1, importance_type=None,\n",
       "             interaction_constraints='', learning_rate=0.300000012,\n",
       "             max_delta_step=0, max_depth=6, min_child_weight=1, missing=nan,\n",
       "             monotone_constraints='()', n_estimators=100, n_jobs=8,\n",
       "             num_parallel_tree=1, predictor='auto', random_state=0, reg_alpha=0,\n",
       "             reg_lambda=1, scale_pos_weight=1, subsample=1, tree_method='exact',\n",
       "             validate_parameters=1, verbosity=None)"
      ]
     },
     "execution_count": 428,
     "metadata": {},
     "output_type": "execute_result"
    }
   ],
   "source": [
    "xgb_model = xgb.XGBRegressor()\n",
    "xgb_model.fit(X_train, y_train)"
   ]
  },
  {
   "cell_type": "code",
   "execution_count": 429,
   "id": "f72274c8",
   "metadata": {},
   "outputs": [
    {
     "name": "stdout",
     "output_type": "stream",
     "text": [
      "^C\n",
      "Note: you may need to restart the kernel to use updated packages.\n"
     ]
    }
   ],
   "source": [
    "pip install xgboost\n"
   ]
  },
  {
   "cell_type": "code",
   "execution_count": 430,
   "id": "a6506cfc",
   "metadata": {},
   "outputs": [
    {
     "data": {
      "text/plain": [
       "3025"
      ]
     },
     "execution_count": 430,
     "metadata": {},
     "output_type": "execute_result"
    },
    {
     "name": "stdout",
     "output_type": "stream",
     "text": [
      "Requirement already satisfied: xgboost in c:\\users\\yassine\\anaconda3\\lib\\site-packages (1.5.1)\n",
      "Requirement already satisfied: numpy in c:\\users\\yassine\\anaconda3\\lib\\site-packages (from xgboost) (1.20.3)\n",
      "Requirement already satisfied: scipy in c:\\users\\yassine\\anaconda3\\lib\\site-packages (from xgboost) (1.7.1)\n"
     ]
    }
   ],
   "source": [
    "len(y_train)"
   ]
  },
  {
   "cell_type": "code",
   "execution_count": 431,
   "id": "c7c76764",
   "metadata": {},
   "outputs": [],
   "source": [
    "y_pred = xgb_model.predict(X_test)"
   ]
  },
  {
   "cell_type": "code",
   "execution_count": 432,
   "id": "9439dc49",
   "metadata": {},
   "outputs": [
    {
     "data": {
      "text/plain": [
       "<AxesSubplot:xlabel='price'>"
      ]
     },
     "execution_count": 432,
     "metadata": {},
     "output_type": "execute_result"
    },
    {
     "data": {
      "image/png": "[encoded data removed]",
      "text/plain": [
       "<Figure size 1440x360 with 1 Axes>"
      ]
     },
     "metadata": {
      "image/png": {
       "height": 326,
       "width": 1151
      }
     },
     "output_type": "display_data"
    }
   ],
   "source": [
    "#We can also plot the samples in seaborn\n",
    "f, ax = plt.subplots(figsize=(20, 5))\n",
    "sns.regplot(x=y_test, y=y_pred)"
   ]
  },
  {
   "cell_type": "code",
   "execution_count": 434,
   "id": "a49879d7",
   "metadata": {},
   "outputs": [
    {
     "name": "stdout",
     "output_type": "stream",
     "text": [
      "[ 326413.57552366  402414.04830644  366685.67309113  410719.45903969\n",
      "  381305.6540318   362364.48565123 1591760.94468236  422190.22905366\n",
      "  430055.36716389  344224.13799352]\n"
     ]
    }
   ],
   "source": [
    "#RMSE of the random forrest model using cross validation \n",
    "scores_xgb = cross_val_score(xgb_model, X_test, y_test,\n",
    "                         scoring=\"neg_mean_squared_error\", cv=10)\n",
    "rmse_scores_xgb = np.sqrt(-scores_xgb)\n",
    "print(rmse_scores_xgb)"
   ]
  },
  {
   "cell_type": "code",
   "execution_count": 435,
   "id": "b11e63c9",
   "metadata": {},
   "outputs": [
    {
     "name": "stdout",
     "output_type": "stream",
     "text": [
      "503813.35745373816\n"
     ]
    }
   ],
   "source": [
    "print(rmse_scores_xgb.mean())"
   ]
  },
  {
   "cell_type": "code",
   "execution_count": 436,
   "id": "3d40be2a",
   "metadata": {},
   "outputs": [
    {
     "data": {
      "text/plain": [
       "0.8744473276564807"
      ]
     },
     "execution_count": 436,
     "metadata": {},
     "output_type": "execute_result"
    }
   ],
   "source": [
    "from sklearn.metrics import r2_score\n",
    "\n",
    "r2_score(y_test, y_pred)"
   ]
  },
  {
   "cell_type": "code",
   "execution_count": 437,
   "id": "2769efd4",
   "metadata": {},
   "outputs": [
    {
     "name": "stderr",
     "output_type": "stream",
     "text": [
      "C:\\Users\\yassine\\AppData\\Local\\Temp/ipykernel_1128/1521292255.py:4: DataConversionWarning: A column-vector y was passed when a 1d array was expected. Please change the shape of y to (n_samples,), for example using ravel().\n",
      "  rf.fit(X_train, y_train)\n",
      "C:\\Users\\yassine\\anaconda3\\lib\\site-packages\\sklearn\\model_selection\\_validation.py:598: DataConversionWarning: A column-vector y was passed when a 1d array was expected. Please change the shape of y to (n_samples,), for example using ravel().\n",
      "  estimator.fit(X_train, y_train, **fit_params)\n",
      "C:\\Users\\yassine\\anaconda3\\lib\\site-packages\\sklearn\\model_selection\\_validation.py:598: DataConversionWarning: A column-vector y was passed when a 1d array was expected. Please change the shape of y to (n_samples,), for example using ravel().\n",
      "  estimator.fit(X_train, y_train, **fit_params)\n",
      "C:\\Users\\yassine\\anaconda3\\lib\\site-packages\\sklearn\\model_selection\\_validation.py:598: DataConversionWarning: A column-vector y was passed when a 1d array was expected. Please change the shape of y to (n_samples,), for example using ravel().\n",
      "  estimator.fit(X_train, y_train, **fit_params)\n",
      "C:\\Users\\yassine\\anaconda3\\lib\\site-packages\\sklearn\\model_selection\\_validation.py:598: DataConversionWarning: A column-vector y was passed when a 1d array was expected. Please change the shape of y to (n_samples,), for example using ravel().\n",
      "  estimator.fit(X_train, y_train, **fit_params)\n",
      "C:\\Users\\yassine\\anaconda3\\lib\\site-packages\\sklearn\\model_selection\\_validation.py:598: DataConversionWarning: A column-vector y was passed when a 1d array was expected. Please change the shape of y to (n_samples,), for example using ravel().\n",
      "  estimator.fit(X_train, y_train, **fit_params)\n",
      "C:\\Users\\yassine\\anaconda3\\lib\\site-packages\\sklearn\\model_selection\\_validation.py:598: DataConversionWarning: A column-vector y was passed when a 1d array was expected. Please change the shape of y to (n_samples,), for example using ravel().\n",
      "  estimator.fit(X_train, y_train, **fit_params)\n",
      "C:\\Users\\yassine\\anaconda3\\lib\\site-packages\\sklearn\\model_selection\\_validation.py:598: DataConversionWarning: A column-vector y was passed when a 1d array was expected. Please change the shape of y to (n_samples,), for example using ravel().\n",
      "  estimator.fit(X_train, y_train, **fit_params)\n",
      "C:\\Users\\yassine\\anaconda3\\lib\\site-packages\\sklearn\\model_selection\\_validation.py:598: DataConversionWarning: A column-vector y was passed when a 1d array was expected. Please change the shape of y to (n_samples,), for example using ravel().\n",
      "  estimator.fit(X_train, y_train, **fit_params)\n",
      "C:\\Users\\yassine\\anaconda3\\lib\\site-packages\\sklearn\\model_selection\\_validation.py:598: DataConversionWarning: A column-vector y was passed when a 1d array was expected. Please change the shape of y to (n_samples,), for example using ravel().\n",
      "  estimator.fit(X_train, y_train, **fit_params)\n",
      "C:\\Users\\yassine\\anaconda3\\lib\\site-packages\\sklearn\\model_selection\\_validation.py:598: DataConversionWarning: A column-vector y was passed when a 1d array was expected. Please change the shape of y to (n_samples,), for example using ravel().\n",
      "  estimator.fit(X_train, y_train, **fit_params)\n"
     ]
    },
    {
     "name": "stdout",
     "output_type": "stream",
     "text": [
      "493546.0274202743\n"
     ]
    }
   ],
   "source": [
    "#### RF\n",
    "\n",
    "rf = RandomForestRegressor(random_state=42)\n",
    "rf.fit(X_train, y_train)\n",
    "\n",
    "scores_rf = cross_val_score(rf, X_test, y_test,\n",
    "                         scoring=\"neg_mean_squared_error\", cv=10)\n",
    "rmse_scores_rf = np.sqrt(-scores_rf)\n",
    "print(rmse_scores_rf.mean())"
   ]
  },
  {
   "cell_type": "code",
   "execution_count": 438,
   "id": "ab1dd12f",
   "metadata": {},
   "outputs": [
    {
     "data": {
      "text/plain": [
       "0.8521048519129406"
      ]
     },
     "execution_count": 438,
     "metadata": {},
     "output_type": "execute_result"
    }
   ],
   "source": [
    "r2_score(y_test, rf.predict(X_test))"
   ]
  },
  {
   "cell_type": "code",
   "execution_count": 439,
   "id": "1597ac33",
   "metadata": {},
   "outputs": [
    {
     "data": {
      "text/plain": [
       "Index(['X', 'Y', 'surface', 'pieces', 'chambre', 'bains', 'age', 'etage', 'TV',\n",
       "       'Marbre', 'Antenne parabolique', 'Carrelage', 'Terrasse', 'Concierge',\n",
       "       'Four', 'Climatisation', 'Vue sur les montagnes', 'Réfrigérateur',\n",
       "       'Chauffage central', 'Salon Marocain', 'Cheminée', 'Salon européen',\n",
       "       'Garage', 'Micro-ondes', 'Double vitrage', 'Jardin', 'Internet',\n",
       "       'Chambre rangement', 'Ascenseur', 'Machine à laver', 'Piscine',\n",
       "       'Sécurité', 'Porte blindée', 'Vue sur mer', 'Cuisine équipée',\n",
       "       'Parquet', 'Etat_2', 'Bon état', 'Nouveau', 'À rénover'],\n",
       "      dtype='object')"
      ]
     },
     "execution_count": 439,
     "metadata": {},
     "output_type": "execute_result"
    }
   ],
   "source": [
    "X_test.columns"
   ]
  },
  {
   "cell_type": "code",
   "execution_count": null,
   "id": "a9dcf0b7",
   "metadata": {},
   "outputs": [],
   "source": []
  },
  {
   "cell_type": "code",
   "execution_count": 459,
   "id": "f269b43d",
   "metadata": {},
   "outputs": [
    {
     "name": "stdout",
     "output_type": "stream",
     "text": [
      "0.8218927112212797\n",
      "0.17570840528588005\n"
     ]
    },
    {
     "data": {
      "text/plain": [
       "40"
      ]
     },
     "execution_count": 459,
     "metadata": {},
     "output_type": "execute_result"
    }
   ],
   "source": [
    "lat_jeb = 33.6243\n",
    "lat_jeb_new = (lat_jeb-df_original.X.min())/(df_original.X.max()-df_original.X.min())\n",
    "print(lat_jeb_new)\n",
    "lon_jeb = -7.139\n",
    "lon_jeb_new = (lon_jeb-df_original.Y.min())/(df_original.Y.max()-df_original.Y.min())\n",
    "print(lon_jeb_new)\n",
    "# df_2.X = (df_2.X-df_2.X.min())/(df_2.X.max()-df_2.X.min())\n",
    "X_jeb = [lat_jeb_new, lon_jeb_new, 48, 3, 4, 1, 19, 3, 1, 0, 0, 0, 0, 0, 0, 0, 0, 0, 0, 0, 0, 0, 0, 0, 0, 0, 1, 0, 0, 0, 0, 0, 0, 0, 0, 0, 0, 1, 0, 0]\n",
    "\n",
    "len(X_jeb)\n"
   ]
  },
  {
   "cell_type": "code",
   "execution_count": 460,
   "id": "e5b412e4",
   "metadata": {},
   "outputs": [
    {
     "data": {
      "text/plain": [
       "array([241817.66], dtype=float32)"
      ]
     },
     "execution_count": 460,
     "metadata": {},
     "output_type": "execute_result"
    }
   ],
   "source": [
    "xgb_model.predict(np.array(X_jeb).reshape(1, -1))"
   ]
  },
  {
   "cell_type": "code",
   "execution_count": 479,
   "id": "ca4826b7",
   "metadata": {},
   "outputs": [
    {
     "name": "stdout",
     "output_type": "stream",
     "text": [
      "0.8214471057948014\n",
      "0.1673272232618859\n"
     ]
    },
    {
     "data": {
      "text/plain": [
       "40"
      ]
     },
     "execution_count": 479,
     "metadata": {},
     "output_type": "execute_result"
    }
   ],
   "source": [
    "lat_b = 33.5956\n",
    "lat_b_new = (lat_b-df_original.X.min())/(df_original.X.max()-df_original.X.min())\n",
    "print(lat_b_new)\n",
    "lon_b = -7.6319\n",
    "lon_b_new = (lon_b-df_original.Y.min())/(df_original.Y.max()-df_original.Y.min())\n",
    "print(lon_b_new)\n",
    "# df_2.X = (df_2.X-df_2.X.min())/(df_2.X.max()-df_2.X.min())\n",
    "X_b = [lat_b_new, lon_b_new, 200, 7, 6, 2, 24, 2, 1, 0, 1, 1, 1, 0, 0, 0, 0, 0, 1, 0, 0, 0, 0, 0, 0, 0, 0, 0, 0, 0, 0, 0, 0, 0, 0, 0, 0, 1, 0, 0]\n",
    "\n",
    "len(X_b)"
   ]
  },
  {
   "cell_type": "code",
   "execution_count": 480,
   "id": "6f1e5a88",
   "metadata": {},
   "outputs": [
    {
     "data": {
      "text/plain": [
       "array([512450.8], dtype=float32)"
      ]
     },
     "execution_count": 480,
     "metadata": {},
     "output_type": "execute_result"
    }
   ],
   "source": [
    "xgb_model.predict(np.array(X_b).reshape(1, -1))"
   ]
  },
  {
   "cell_type": "code",
   "execution_count": null,
   "id": "fb233e88",
   "metadata": {},
   "outputs": [],
   "source": []
  }
 ],
 "metadata": {
  "kernelspec": {
   "display_name": "Python 3 (ipykernel)",
   "language": "python",
   "name": "python3"
  },
  "language_info": {
   "codemirror_mode": {
    "name": "ipython",
    "version": 3
   },
   "file_extension": ".py",
   "mimetype": "text/x-python",
   "name": "python",
   "nbconvert_exporter": "python",
   "pygments_lexer": "ipython3",
   "version": "3.9.7"
  }
 },
 "nbformat": 4,
 "nbformat_minor": 5
}
