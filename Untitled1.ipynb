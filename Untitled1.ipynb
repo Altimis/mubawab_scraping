{
 "cells": [
  {
   "cell_type": "code",
   "execution_count": 383,
   "id": "6a01f656",
   "metadata": {},
   "outputs": [],
   "source": [
    "import numpy as np\n",
    "import pandas as pd\n",
    "import itertools\n",
    "from datetime import datetime\n",
    "import geocoder\n",
    "from geopy.geocoders import Nominatim\n",
    "LOCATOR = Nominatim(user_agent=\"myGeocoder\")"
   ]
  },
  {
   "cell_type": "code",
   "execution_count": 384,
   "id": "045b2215",
   "metadata": {},
   "outputs": [],
   "source": [
    "df = pd.read_csv('data_avito_apparts_vente_casa.csv',index_col=[0])"
   ]
  },
  {
   "cell_type": "markdown",
   "id": "053577f3",
   "metadata": {},
   "source": [
    "## EDA"
   ]
  },
  {
   "cell_type": "code",
   "execution_count": 385,
   "id": "93e369b0",
   "metadata": {},
   "outputs": [
    {
     "data": {
      "text/html": [
       "<div>\n",
       "<style scoped>\n",
       "    .dataframe tbody tr th:only-of-type {\n",
       "        vertical-align: middle;\n",
       "    }\n",
       "\n",
       "    .dataframe tbody tr th {\n",
       "        vertical-align: top;\n",
       "    }\n",
       "\n",
       "    .dataframe thead th {\n",
       "        text-align: right;\n",
       "    }\n",
       "</style>\n",
       "<table border=\"1\" class=\"dataframe\">\n",
       "  <thead>\n",
       "    <tr style=\"text-align: right;\">\n",
       "      <th></th>\n",
       "      <th>title</th>\n",
       "      <th>surface_totale</th>\n",
       "      <th>surface_habitable</th>\n",
       "      <th>chambre</th>\n",
       "      <th>bain</th>\n",
       "      <th>price</th>\n",
       "      <th>ville</th>\n",
       "      <th>time</th>\n",
       "      <th>secteur</th>\n",
       "      <th>type</th>\n",
       "      <th>...</th>\n",
       "      <th>Climatisation</th>\n",
       "      <th>CuisineEquipee</th>\n",
       "      <th>Garage</th>\n",
       "      <th>Chauffage</th>\n",
       "      <th>Piscine</th>\n",
       "      <th>Jardin</th>\n",
       "      <th>Titre</th>\n",
       "      <th>Loti</th>\n",
       "      <th>Duplex</th>\n",
       "      <th>Meuble</th>\n",
       "    </tr>\n",
       "    <tr>\n",
       "      <th>link</th>\n",
       "      <th></th>\n",
       "      <th></th>\n",
       "      <th></th>\n",
       "      <th></th>\n",
       "      <th></th>\n",
       "      <th></th>\n",
       "      <th></th>\n",
       "      <th></th>\n",
       "      <th></th>\n",
       "      <th></th>\n",
       "      <th></th>\n",
       "      <th></th>\n",
       "      <th></th>\n",
       "      <th></th>\n",
       "      <th></th>\n",
       "      <th></th>\n",
       "      <th></th>\n",
       "      <th></th>\n",
       "      <th></th>\n",
       "      <th></th>\n",
       "      <th></th>\n",
       "    </tr>\n",
       "  </thead>\n",
       "  <tbody>\n",
       "    <tr>\n",
       "      <th>https://www.avito.ma/fr/centre_ville/appartements/saroute_appartement__48760839.htm</th>\n",
       "      <td>saroute appartement</td>\n",
       "      <td>84 m²</td>\n",
       "      <td>NaN</td>\n",
       "      <td>2</td>\n",
       "      <td>1</td>\n",
       "      <td>280000.0</td>\n",
       "      <td>Casablanca</td>\n",
       "      <td>21:23</td>\n",
       "      <td>Centre Ville</td>\n",
       "      <td>Appartements, Vente</td>\n",
       "      <td>...</td>\n",
       "      <td>0</td>\n",
       "      <td>0</td>\n",
       "      <td>0</td>\n",
       "      <td>0</td>\n",
       "      <td>0</td>\n",
       "      <td>0</td>\n",
       "      <td>0</td>\n",
       "      <td>0</td>\n",
       "      <td>0</td>\n",
       "      <td>0</td>\n",
       "    </tr>\n",
       "    <tr>\n",
       "      <th>https://www.avito.ma/fr/bernoussi/appartements/%D8%B4%D9%82%D8%A9_%D9%84%D9%84%D8%A8%D9%8A%D8%B9_67%D9%85%D8%AA%D8%B1_%D8%A7%D9%84%D9%85%D8%B9%D9%84%D9%88%D9%85%D8%A7%D8%AA_%D9%81%D8%A7%D9%84%D8%A7%D8%B3%D9%81%D9%84_48760800.htm</th>\n",
       "      <td>شقة للبيع 67متر المعلومات فالاسفل</td>\n",
       "      <td>67 m²</td>\n",
       "      <td>67 m²</td>\n",
       "      <td>2</td>\n",
       "      <td>--</td>\n",
       "      <td>460000.0</td>\n",
       "      <td>Casablanca</td>\n",
       "      <td>21:19</td>\n",
       "      <td>Bernoussi</td>\n",
       "      <td>Appartements, Vente</td>\n",
       "      <td>...</td>\n",
       "      <td>0</td>\n",
       "      <td>0</td>\n",
       "      <td>0</td>\n",
       "      <td>0</td>\n",
       "      <td>0</td>\n",
       "      <td>0</td>\n",
       "      <td>0</td>\n",
       "      <td>0</td>\n",
       "      <td>0</td>\n",
       "      <td>0</td>\n",
       "    </tr>\n",
       "    <tr>\n",
       "      <th>https://www.avito.ma/fr/maarif/appartements/Appartement_94m2_%C3%A0_El_Maarif_47204706.htm</th>\n",
       "      <td>Appartement 94m2 à El Maarif</td>\n",
       "      <td>94 m²</td>\n",
       "      <td>NaN</td>\n",
       "      <td>2</td>\n",
       "      <td>2</td>\n",
       "      <td>1749000.0</td>\n",
       "      <td>Casablanca</td>\n",
       "      <td>21:17</td>\n",
       "      <td>Maarif</td>\n",
       "      <td>Appartements, Vente</td>\n",
       "      <td>...</td>\n",
       "      <td>1</td>\n",
       "      <td>1</td>\n",
       "      <td>0</td>\n",
       "      <td>1</td>\n",
       "      <td>0</td>\n",
       "      <td>0</td>\n",
       "      <td>0</td>\n",
       "      <td>0</td>\n",
       "      <td>0</td>\n",
       "      <td>0</td>\n",
       "    </tr>\n",
       "  </tbody>\n",
       "</table>\n",
       "<p>3 rows × 30 columns</p>\n",
       "</div>"
      ],
      "text/plain": [
       "                                                                                title  \\\n",
       "link                                                                                    \n",
       "https://www.avito.ma/fr/centre_ville/appartemen...                saroute appartement   \n",
       "https://www.avito.ma/fr/bernoussi/appartements/...  شقة للبيع 67متر المعلومات فالاسفل   \n",
       "https://www.avito.ma/fr/maarif/appartements/App...       Appartement 94m2 à El Maarif   \n",
       "\n",
       "                                                   surface_totale  \\\n",
       "link                                                                \n",
       "https://www.avito.ma/fr/centre_ville/appartemen...          84 m²   \n",
       "https://www.avito.ma/fr/bernoussi/appartements/...          67 m²   \n",
       "https://www.avito.ma/fr/maarif/appartements/App...          94 m²   \n",
       "\n",
       "                                                   surface_habitable chambre  \\\n",
       "link                                                                           \n",
       "https://www.avito.ma/fr/centre_ville/appartemen...               NaN       2   \n",
       "https://www.avito.ma/fr/bernoussi/appartements/...             67 m²       2   \n",
       "https://www.avito.ma/fr/maarif/appartements/App...               NaN       2   \n",
       "\n",
       "                                                   bain      price  \\\n",
       "link                                                                 \n",
       "https://www.avito.ma/fr/centre_ville/appartemen...    1   280000.0   \n",
       "https://www.avito.ma/fr/bernoussi/appartements/...   --   460000.0   \n",
       "https://www.avito.ma/fr/maarif/appartements/App...    2  1749000.0   \n",
       "\n",
       "                                                         ville   time  \\\n",
       "link                                                                    \n",
       "https://www.avito.ma/fr/centre_ville/appartemen...  Casablanca  21:23   \n",
       "https://www.avito.ma/fr/bernoussi/appartements/...  Casablanca  21:19   \n",
       "https://www.avito.ma/fr/maarif/appartements/App...  Casablanca  21:17   \n",
       "\n",
       "                                                         secteur  \\\n",
       "link                                                               \n",
       "https://www.avito.ma/fr/centre_ville/appartemen...  Centre Ville   \n",
       "https://www.avito.ma/fr/bernoussi/appartements/...     Bernoussi   \n",
       "https://www.avito.ma/fr/maarif/appartements/App...        Maarif   \n",
       "\n",
       "                                                                   type  ...  \\\n",
       "link                                                                     ...   \n",
       "https://www.avito.ma/fr/centre_ville/appartemen...  Appartements, Vente  ...   \n",
       "https://www.avito.ma/fr/bernoussi/appartements/...  Appartements, Vente  ...   \n",
       "https://www.avito.ma/fr/maarif/appartements/App...  Appartements, Vente  ...   \n",
       "\n",
       "                                                   Climatisation  \\\n",
       "link                                                               \n",
       "https://www.avito.ma/fr/centre_ville/appartemen...             0   \n",
       "https://www.avito.ma/fr/bernoussi/appartements/...             0   \n",
       "https://www.avito.ma/fr/maarif/appartements/App...             1   \n",
       "\n",
       "                                                   CuisineEquipee Garage  \\\n",
       "link                                                                       \n",
       "https://www.avito.ma/fr/centre_ville/appartemen...              0      0   \n",
       "https://www.avito.ma/fr/bernoussi/appartements/...              0      0   \n",
       "https://www.avito.ma/fr/maarif/appartements/App...              1      0   \n",
       "\n",
       "                                                   Chauffage  Piscine  Jardin  \\\n",
       "link                                                                            \n",
       "https://www.avito.ma/fr/centre_ville/appartemen...         0        0       0   \n",
       "https://www.avito.ma/fr/bernoussi/appartements/...         0        0       0   \n",
       "https://www.avito.ma/fr/maarif/appartements/App...         1        0       0   \n",
       "\n",
       "                                                    Titre  Loti  Duplex  \\\n",
       "link                                                                      \n",
       "https://www.avito.ma/fr/centre_ville/appartemen...      0     0       0   \n",
       "https://www.avito.ma/fr/bernoussi/appartements/...      0     0       0   \n",
       "https://www.avito.ma/fr/maarif/appartements/App...      0     0       0   \n",
       "\n",
       "                                                    Meuble  \n",
       "link                                                        \n",
       "https://www.avito.ma/fr/centre_ville/appartemen...       0  \n",
       "https://www.avito.ma/fr/bernoussi/appartements/...       0  \n",
       "https://www.avito.ma/fr/maarif/appartements/App...       0  \n",
       "\n",
       "[3 rows x 30 columns]"
      ]
     },
     "execution_count": 385,
     "metadata": {},
     "output_type": "execute_result"
    }
   ],
   "source": [
    "df.head(3)"
   ]
  },
  {
   "cell_type": "code",
   "execution_count": 386,
   "id": "c3a21c0e",
   "metadata": {},
   "outputs": [
    {
     "data": {
      "text/plain": [
       "Index(['title', 'surface_totale', 'surface_habitable', 'chambre', 'bain',\n",
       "       'price', 'ville', 'time', 'secteur', 'type', 'age', 'etage', 'salon',\n",
       "       'description', 'Concierge', 'Balcon', 'Terrasse', 'Securite', 'Parking',\n",
       "       'Ascenseur', 'Climatisation', 'CuisineEquipee', 'Garage', 'Chauffage',\n",
       "       'Piscine', 'Jardin', 'Titre', 'Loti', 'Duplex', 'Meuble'],\n",
       "      dtype='object')"
      ]
     },
     "execution_count": 386,
     "metadata": {},
     "output_type": "execute_result"
    }
   ],
   "source": [
    "columns = df.columns\n",
    "columns"
   ]
  },
  {
   "cell_type": "code",
   "execution_count": 387,
   "id": "fe7d2b3f",
   "metadata": {
    "scrolled": false
   },
   "outputs": [
    {
     "name": "stdout",
     "output_type": "stream",
     "text": [
      "<class 'pandas.core.frame.DataFrame'>\n",
      "Index: 7419 entries, https://www.avito.ma/fr/centre_ville/appartements/saroute_appartement__48760839.htm to https://www.avito.ma/fr/anfa/appartements/Appartement_en_Vente_%C3%A0_Casablanca_47105280.htm\n",
      "Data columns (total 30 columns):\n",
      " #   Column             Non-Null Count  Dtype  \n",
      "---  ------             --------------  -----  \n",
      " 0   title              7077 non-null   object \n",
      " 1   surface_totale     7060 non-null   object \n",
      " 2   surface_habitable  4275 non-null   object \n",
      " 3   chambre            7060 non-null   object \n",
      " 4   bain               7060 non-null   object \n",
      " 5   price              5679 non-null   float64\n",
      " 6   ville              7077 non-null   object \n",
      " 7   time               7077 non-null   object \n",
      " 8   secteur            6976 non-null   object \n",
      " 9   type               7060 non-null   object \n",
      " 10  age                3982 non-null   object \n",
      " 11  etage              6066 non-null   object \n",
      " 12  salon              5551 non-null   object \n",
      " 13  description        7060 non-null   object \n",
      " 14  Concierge          7419 non-null   int64  \n",
      " 15  Balcon             7419 non-null   int64  \n",
      " 16  Terrasse           7419 non-null   int64  \n",
      " 17  Securite           7419 non-null   int64  \n",
      " 18  Parking            7419 non-null   int64  \n",
      " 19  Ascenseur          7419 non-null   int64  \n",
      " 20  Climatisation      7419 non-null   int64  \n",
      " 21  CuisineEquipee     7419 non-null   int64  \n",
      " 22  Garage             7419 non-null   int64  \n",
      " 23  Chauffage          7419 non-null   int64  \n",
      " 24  Piscine            7419 non-null   int64  \n",
      " 25  Jardin             7419 non-null   int64  \n",
      " 26  Titre              7419 non-null   int64  \n",
      " 27  Loti               7419 non-null   int64  \n",
      " 28  Duplex             7419 non-null   int64  \n",
      " 29  Meuble             7419 non-null   int64  \n",
      "dtypes: float64(1), int64(16), object(13)\n",
      "memory usage: 1.8+ MB\n"
     ]
    }
   ],
   "source": [
    "df.info()"
   ]
  },
  {
   "cell_type": "markdown",
   "id": "50e5884d",
   "metadata": {},
   "source": [
    "### Duplicates"
   ]
  },
  {
   "cell_type": "code",
   "execution_count": 388,
   "id": "e1e2be6a",
   "metadata": {},
   "outputs": [
    {
     "data": {
      "text/plain": [
       "True"
      ]
     },
     "execution_count": 388,
     "metadata": {},
     "output_type": "execute_result"
    }
   ],
   "source": [
    "# check duplicated indices \n",
    "df.index.is_unique # -> False\n",
    "# drop duplicated indices (links)\n",
    "df = df[~df.index.duplicated(keep='first')]\n",
    "df.index.is_unique # -> True"
   ]
  },
  {
   "cell_type": "markdown",
   "id": "694dc1a1",
   "metadata": {},
   "source": [
    "### Explore columns"
   ]
  },
  {
   "cell_type": "markdown",
   "id": "5226fc84",
   "metadata": {},
   "source": [
    "#### ville"
   ]
  },
  {
   "cell_type": "code",
   "execution_count": 389,
   "id": "82bc229b",
   "metadata": {},
   "outputs": [
    {
     "data": {
      "text/plain": [
       "Casablanca    7052\n",
       "LISTE           17\n",
       "Name: ville, dtype: int64"
      ]
     },
     "execution_count": 389,
     "metadata": {},
     "output_type": "execute_result"
    }
   ],
   "source": [
    "df.ville.value_counts()"
   ]
  },
  {
   "cell_type": "code",
   "execution_count": 390,
   "id": "325ed114",
   "metadata": {},
   "outputs": [
    {
     "name": "stdout",
     "output_type": "stream",
     "text": [
      "<class 'pandas.core.frame.DataFrame'>\n",
      "Index: 17 entries, https://www.avito.ma/fr/roches_noires/appartements/appt_1_%C3%A9tage_Chouka_immeuble_R5_48751374.htm to https://www.avito.ma/fr/sidi_maarouf/appartements/Appartement_en_Vente_%C3%A0_prouch_du_mosqu%C3%A9e_lkzabri__47338887.htm\n",
      "Data columns (total 30 columns):\n",
      " #   Column             Non-Null Count  Dtype  \n",
      "---  ------             --------------  -----  \n",
      " 0   title              17 non-null     object \n",
      " 1   surface_totale     0 non-null      object \n",
      " 2   surface_habitable  0 non-null      object \n",
      " 3   chambre            0 non-null      object \n",
      " 4   bain               0 non-null      object \n",
      " 5   price              0 non-null      float64\n",
      " 6   ville              17 non-null     object \n",
      " 7   time               17 non-null     object \n",
      " 8   secteur            0 non-null      object \n",
      " 9   type               0 non-null      object \n",
      " 10  age                0 non-null      object \n",
      " 11  etage              0 non-null      object \n",
      " 12  salon              0 non-null      object \n",
      " 13  description        0 non-null      object \n",
      " 14  Concierge          17 non-null     int64  \n",
      " 15  Balcon             17 non-null     int64  \n",
      " 16  Terrasse           17 non-null     int64  \n",
      " 17  Securite           17 non-null     int64  \n",
      " 18  Parking            17 non-null     int64  \n",
      " 19  Ascenseur          17 non-null     int64  \n",
      " 20  Climatisation      17 non-null     int64  \n",
      " 21  CuisineEquipee     17 non-null     int64  \n",
      " 22  Garage             17 non-null     int64  \n",
      " 23  Chauffage          17 non-null     int64  \n",
      " 24  Piscine            17 non-null     int64  \n",
      " 25  Jardin             17 non-null     int64  \n",
      " 26  Titre              17 non-null     int64  \n",
      " 27  Loti               17 non-null     int64  \n",
      " 28  Duplex             17 non-null     int64  \n",
      " 29  Meuble             17 non-null     int64  \n",
      "dtypes: float64(1), int64(16), object(13)\n",
      "memory usage: 4.1+ KB\n"
     ]
    }
   ],
   "source": [
    "df[df['ville']=='LISTE'].info()"
   ]
  },
  {
   "cell_type": "markdown",
   "id": "d9a755aa",
   "metadata": {},
   "source": [
    "Null rows (maybe these apprts have already been solde)"
   ]
  },
  {
   "cell_type": "code",
   "execution_count": 391,
   "id": "958aa24a",
   "metadata": {},
   "outputs": [],
   "source": [
    "df = df.drop(df[df['ville']=='LISTE'].index)"
   ]
  },
  {
   "cell_type": "markdown",
   "id": "f3f4dd2e",
   "metadata": {},
   "source": [
    "#### secteur "
   ]
  },
  {
   "cell_type": "code",
   "execution_count": 392,
   "id": "3ef71831",
   "metadata": {},
   "outputs": [
    {
     "data": {
      "text/plain": [
       "Oulfa                  738\n",
       "Aïn Sebaâ              482\n",
       "Sidi Moumen            481\n",
       "Sidi Bernoussi         404\n",
       "Maarif                 394\n",
       "                      ... \n",
       "Hay Moulay Rachid 1      1\n",
       "Hay Moulay Rachid 6      1\n",
       "Lusitania                1\n",
       "Hay Tarik                1\n",
       "Hay Mansour              1\n",
       "Name: secteur, Length: 86, dtype: int64"
      ]
     },
     "execution_count": 392,
     "metadata": {},
     "output_type": "execute_result"
    }
   ],
   "source": [
    "df.secteur.value_counts()"
   ]
  },
  {
   "cell_type": "code",
   "execution_count": 393,
   "id": "33409120",
   "metadata": {},
   "outputs": [],
   "source": [
    "df = df.dropna(subset=['secteur'])"
   ]
  },
  {
   "cell_type": "code",
   "execution_count": 394,
   "id": "85867f9f",
   "metadata": {},
   "outputs": [],
   "source": [
    "secteurs = list(df.secteur.value_counts().keys())"
   ]
  },
  {
   "cell_type": "code",
   "execution_count": 395,
   "id": "a1c0464b",
   "metadata": {},
   "outputs": [],
   "source": [
    "# convert secteurs to long,lat \n",
    "geocode = {}\n",
    "for secteur in secteurs:\n",
    "    location = LOCATOR.geocode(\"Casablanca, \" + str(secteur))\n",
    "    try:\n",
    "#         if secteur == 'Centre Ville':\n",
    "#             return None\n",
    "        latitude = location.latitude\n",
    "        longitude = location.longitude\n",
    "        geocode[secteur] = (latitude, longitude)\n",
    "    except AttributeError:\n",
    "        geocode[secteur] = None"
   ]
  },
  {
   "cell_type": "code",
   "execution_count": 396,
   "id": "5ecdc6aa",
   "metadata": {},
   "outputs": [
    {
     "data": {
      "text/plain": [
       "42.6840521"
      ]
     },
     "execution_count": 396,
     "metadata": {},
     "output_type": "execute_result"
    }
   ],
   "source": [
    "sect = 'Centre Ville'\n",
    "l = LOCATOR.geocode(\"Casablanca, \" + str(sect))\n",
    "l.latitude"
   ]
  },
  {
   "cell_type": "code",
   "execution_count": 397,
   "id": "eebee19a",
   "metadata": {},
   "outputs": [
    {
     "data": {
      "text/plain": [
       "23.3325024"
      ]
     },
     "execution_count": 397,
     "metadata": {},
     "output_type": "execute_result"
    }
   ],
   "source": [
    "l.longitude"
   ]
  },
  {
   "cell_type": "code",
   "execution_count": 398,
   "id": "acd2ade6",
   "metadata": {},
   "outputs": [],
   "source": [
    "def to_geocode(secteur):\n",
    "    return geocode[secteur]\n",
    "    \n",
    "df['geocode'] = df.secteur.apply(to_geocode)"
   ]
  },
  {
   "cell_type": "code",
   "execution_count": 399,
   "id": "f7c45808",
   "metadata": {
    "scrolled": true
   },
   "outputs": [
    {
     "data": {
      "text/plain": [
       "(33.5511902, -7.684483)     738\n",
       "(33.6059943, -7.5387936)    482\n",
       "(33.5843834, -7.5072051)    481\n",
       "(33.6190686, -7.5003234)    404\n",
       "(33.5827079, -7.6405711)    394\n",
       "                           ... \n",
       "(40.6620936, -7.9093208)      1\n",
       "(33.5612286, -7.5631384)      1\n",
       "(33.5517458, -7.5541018)      1\n",
       "(33.0089447, -7.6337719)      1\n",
       "(33.5693137, -7.6530571)      1\n",
       "Name: geocode, Length: 67, dtype: int64"
      ]
     },
     "execution_count": 399,
     "metadata": {},
     "output_type": "execute_result"
    }
   ],
   "source": [
    "df['geocode'].value_counts()"
   ]
  },
  {
   "cell_type": "markdown",
   "id": "ce9d48ca",
   "metadata": {},
   "source": [
    "#### surface"
   ]
  },
  {
   "cell_type": "code",
   "execution_count": 400,
   "id": "972fcc0c",
   "metadata": {},
   "outputs": [],
   "source": [
    "def surface_to_int(surface):\n",
    "    if surface and surface != '--':\n",
    "        return eval(surface[:-2])\n",
    "    else:\n",
    "        return None\n",
    "df['surface'] = df.surface_totale.apply(surface_to_int)"
   ]
  },
  {
   "cell_type": "code",
   "execution_count": 401,
   "id": "842f2a3f",
   "metadata": {},
   "outputs": [],
   "source": [
    "df = df.dropna(subset=['surface'])"
   ]
  },
  {
   "cell_type": "code",
   "execution_count": 402,
   "id": "fb90bac0",
   "metadata": {},
   "outputs": [
    {
     "name": "stdout",
     "output_type": "stream",
     "text": [
      "<class 'pandas.core.frame.DataFrame'>\n",
      "Index: 5814 entries, https://www.avito.ma/fr/centre_ville/appartements/saroute_appartement__48760839.htm to https://www.avito.ma/fr/anfa/appartements/Appartement_en_Vente_%C3%A0_Casablanca_47105280.htm\n",
      "Data columns (total 32 columns):\n",
      " #   Column             Non-Null Count  Dtype  \n",
      "---  ------             --------------  -----  \n",
      " 0   title              5814 non-null   object \n",
      " 1   surface_totale     5814 non-null   object \n",
      " 2   surface_habitable  3967 non-null   object \n",
      " 3   chambre            5814 non-null   object \n",
      " 4   bain               5814 non-null   object \n",
      " 5   price              4766 non-null   float64\n",
      " 6   ville              5814 non-null   object \n",
      " 7   time               5814 non-null   object \n",
      " 8   secteur            5814 non-null   object \n",
      " 9   type               5814 non-null   object \n",
      " 10  age                3703 non-null   object \n",
      " 11  etage              5463 non-null   object \n",
      " 12  salon              4926 non-null   object \n",
      " 13  description        5814 non-null   object \n",
      " 14  Concierge          5814 non-null   int64  \n",
      " 15  Balcon             5814 non-null   int64  \n",
      " 16  Terrasse           5814 non-null   int64  \n",
      " 17  Securite           5814 non-null   int64  \n",
      " 18  Parking            5814 non-null   int64  \n",
      " 19  Ascenseur          5814 non-null   int64  \n",
      " 20  Climatisation      5814 non-null   int64  \n",
      " 21  CuisineEquipee     5814 non-null   int64  \n",
      " 22  Garage             5814 non-null   int64  \n",
      " 23  Chauffage          5814 non-null   int64  \n",
      " 24  Piscine            5814 non-null   int64  \n",
      " 25  Jardin             5814 non-null   int64  \n",
      " 26  Titre              5814 non-null   int64  \n",
      " 27  Loti               5814 non-null   int64  \n",
      " 28  Duplex             5814 non-null   int64  \n",
      " 29  Meuble             5814 non-null   int64  \n",
      " 30  geocode            5399 non-null   object \n",
      " 31  surface            5814 non-null   float64\n",
      "dtypes: float64(2), int64(16), object(14)\n",
      "memory usage: 1.5+ MB\n"
     ]
    }
   ],
   "source": [
    "df.info()"
   ]
  },
  {
   "cell_type": "raw",
   "id": "e9f24d06",
   "metadata": {},
   "source": [
    "We could get surface from title, description or surface_habitable under certain assumptions"
   ]
  },
  {
   "cell_type": "markdown",
   "id": "ff8342b3",
   "metadata": {},
   "source": [
    "#### price"
   ]
  },
  {
   "cell_type": "raw",
   "id": "48692581",
   "metadata": {},
   "source": [
    "We could get price from title or description"
   ]
  },
  {
   "cell_type": "code",
   "execution_count": 403,
   "id": "401a0277",
   "metadata": {},
   "outputs": [],
   "source": [
    "# drop na\n",
    "df = df.dropna(subset=['price'])"
   ]
  },
  {
   "cell_type": "markdown",
   "id": "d7d1798f",
   "metadata": {},
   "source": [
    "#### age"
   ]
  },
  {
   "cell_type": "code",
   "execution_count": 404,
   "id": "c7f00e6c",
   "metadata": {},
   "outputs": [],
   "source": [
    "ages = list(df.age.value_counts().keys())\n",
    "ages_int = [7.5, 15, 3, 0.5, 25]\n",
    "ages_dict = {k:v for k,v in zip(ages, ages_int)}\n",
    "def age_to_int(age):\n",
    "    try:\n",
    "        return ages_dict[age]\n",
    "    except:\n",
    "        # return None and drop na\n",
    "        return 10"
   ]
  },
  {
   "cell_type": "code",
   "execution_count": 405,
   "id": "4b1f4971",
   "metadata": {},
   "outputs": [],
   "source": [
    "df['age_int'] = df.age.apply(age_to_int)"
   ]
  },
  {
   "cell_type": "markdown",
   "id": "1a66d82f",
   "metadata": {},
   "source": [
    "#### type"
   ]
  },
  {
   "cell_type": "code",
   "execution_count": 406,
   "id": "3c365de7",
   "metadata": {},
   "outputs": [
    {
     "data": {
      "text/plain": [
       "Appartements, Vente    4766\n",
       "Name: type, dtype: int64"
      ]
     },
     "execution_count": 406,
     "metadata": {},
     "output_type": "execute_result"
    }
   ],
   "source": [
    "df.type.value_counts()"
   ]
  },
  {
   "cell_type": "markdown",
   "id": "2da5c3e1",
   "metadata": {},
   "source": [
    "#### chambre, bain"
   ]
  },
  {
   "cell_type": "code",
   "execution_count": 407,
   "id": "3fb4e8bf",
   "metadata": {},
   "outputs": [
    {
     "data": {
      "text/plain": [
       "2      2752\n",
       "3      1429\n",
       "1       251\n",
       "4       161\n",
       "--       77\n",
       "5        55\n",
       "6        22\n",
       "7         8\n",
       "8         5\n",
       "10+       5\n",
       "9         1\n",
       "Name: chambre, dtype: int64"
      ]
     },
     "execution_count": 407,
     "metadata": {},
     "output_type": "execute_result"
    }
   ],
   "source": [
    "df.chambre.value_counts()"
   ]
  },
  {
   "cell_type": "code",
   "execution_count": 408,
   "id": "62962daf",
   "metadata": {},
   "outputs": [
    {
     "data": {
      "text/plain": [
       "1     2535\n",
       "2     1761\n",
       "--     253\n",
       "3      191\n",
       "0       15\n",
       "4        6\n",
       "5        3\n",
       "7+       2\n",
       "Name: bain, dtype: int64"
      ]
     },
     "execution_count": 408,
     "metadata": {},
     "output_type": "execute_result"
    }
   ],
   "source": [
    "df.bain.value_counts()"
   ]
  },
  {
   "cell_type": "code",
   "execution_count": 409,
   "id": "167ecbc3",
   "metadata": {},
   "outputs": [
    {
     "data": {
      "text/plain": [
       "1.0    2535\n",
       "2.0    1761\n",
       "3.0     191\n",
       "0.0      15\n",
       "4.0       6\n",
       "5.0       3\n",
       "7.0       2\n",
       "Name: bain_nb, dtype: int64"
      ]
     },
     "execution_count": 409,
     "metadata": {},
     "output_type": "execute_result"
    }
   ],
   "source": [
    "def chambre_bain(nb):\n",
    "    if nb == '--':\n",
    "        return None\n",
    "    elif nb == '10+':\n",
    "        return 10\n",
    "    elif nb == '7+':\n",
    "        return 7\n",
    "    else:\n",
    "        return eval(nb)\n",
    "df['chambre_nb'] = df.chambre.apply(chambre_bain)\n",
    "df['bain_nb'] = df.bain.apply(chambre_bain)\n",
    "df['bain_nb'].value_counts()"
   ]
  },
  {
   "cell_type": "code",
   "execution_count": 410,
   "id": "b1c3a023",
   "metadata": {},
   "outputs": [],
   "source": [
    "df = df.dropna(subset=['chambre_nb', 'bain_nb', 'etage', 'geocode'])"
   ]
  },
  {
   "cell_type": "markdown",
   "id": "c3e00624",
   "metadata": {},
   "source": [
    "#### etage"
   ]
  },
  {
   "cell_type": "code",
   "execution_count": 411,
   "id": "861fed4c",
   "metadata": {},
   "outputs": [
    {
     "data": {
      "text/plain": [
       "1                  919\n",
       "3                  874\n",
       "2                  847\n",
       "4                  677\n",
       "Rez de chaussée    356\n",
       "5                  238\n",
       "7+                  70\n",
       "6                   67\n",
       "Name: etage, dtype: int64"
      ]
     },
     "execution_count": 411,
     "metadata": {},
     "output_type": "execute_result"
    }
   ],
   "source": [
    "df.etage.value_counts()    "
   ]
  },
  {
   "cell_type": "code",
   "execution_count": 412,
   "id": "6123af47",
   "metadata": {},
   "outputs": [],
   "source": [
    "def etage_to_nb(et):\n",
    "    if et == 'Rez de chaussée':\n",
    "        return 0\n",
    "    elif et == '7+':\n",
    "        return 7\n",
    "    else:\n",
    "        return eval(et)\n",
    "df['etage_nb'] = df.etage.apply(etage_to_nb)"
   ]
  },
  {
   "cell_type": "markdown",
   "id": "b8929c85",
   "metadata": {},
   "source": [
    "#### salon"
   ]
  },
  {
   "cell_type": "code",
   "execution_count": 413,
   "id": "6c50edb7",
   "metadata": {},
   "outputs": [
    {
     "data": {
      "text/plain": [
       "1     2714\n",
       "2      759\n",
       "3       90\n",
       "0        9\n",
       "4        5\n",
       "7+       2\n",
       "5        1\n",
       "Name: salon, dtype: int64"
      ]
     },
     "execution_count": 413,
     "metadata": {},
     "output_type": "execute_result"
    }
   ],
   "source": [
    "df.salon.value_counts()    "
   ]
  },
  {
   "cell_type": "code",
   "execution_count": 414,
   "id": "bbc1dce0",
   "metadata": {},
   "outputs": [],
   "source": [
    "def salon_to_nb(sal):\n",
    "    if sal == '7+':\n",
    "        return 7\n",
    "    else:\n",
    "        try:\n",
    "            return eval(sal)\n",
    "        except:\n",
    "            return 1\n",
    "df['salon_nb'] = df['salon'].apply(salon_to_nb)"
   ]
  },
  {
   "cell_type": "code",
   "execution_count": 415,
   "id": "9018f172",
   "metadata": {},
   "outputs": [
    {
     "name": "stdout",
     "output_type": "stream",
     "text": [
      "<class 'pandas.core.frame.DataFrame'>\n",
      "Index: 4048 entries, https://www.avito.ma/fr/centre_ville/appartements/saroute_appartement__48760839.htm to https://www.avito.ma/fr/anfa/appartements/Appartement_en_Vente_%C3%A0_Casablanca_47105280.htm\n",
      "Data columns (total 37 columns):\n",
      " #   Column             Non-Null Count  Dtype  \n",
      "---  ------             --------------  -----  \n",
      " 0   title              4048 non-null   object \n",
      " 1   surface_totale     4048 non-null   object \n",
      " 2   surface_habitable  2922 non-null   object \n",
      " 3   chambre            4048 non-null   object \n",
      " 4   bain               4048 non-null   object \n",
      " 5   price              4048 non-null   float64\n",
      " 6   ville              4048 non-null   object \n",
      " 7   time               4048 non-null   object \n",
      " 8   secteur            4048 non-null   object \n",
      " 9   type               4048 non-null   object \n",
      " 10  age                2758 non-null   object \n",
      " 11  etage              4048 non-null   object \n",
      " 12  salon              3580 non-null   object \n",
      " 13  description        4048 non-null   object \n",
      " 14  Concierge          4048 non-null   int64  \n",
      " 15  Balcon             4048 non-null   int64  \n",
      " 16  Terrasse           4048 non-null   int64  \n",
      " 17  Securite           4048 non-null   int64  \n",
      " 18  Parking            4048 non-null   int64  \n",
      " 19  Ascenseur          4048 non-null   int64  \n",
      " 20  Climatisation      4048 non-null   int64  \n",
      " 21  CuisineEquipee     4048 non-null   int64  \n",
      " 22  Garage             4048 non-null   int64  \n",
      " 23  Chauffage          4048 non-null   int64  \n",
      " 24  Piscine            4048 non-null   int64  \n",
      " 25  Jardin             4048 non-null   int64  \n",
      " 26  Titre              4048 non-null   int64  \n",
      " 27  Loti               4048 non-null   int64  \n",
      " 28  Duplex             4048 non-null   int64  \n",
      " 29  Meuble             4048 non-null   int64  \n",
      " 30  geocode            4048 non-null   object \n",
      " 31  surface            4048 non-null   float64\n",
      " 32  age_int            4048 non-null   float64\n",
      " 33  chambre_nb         4048 non-null   float64\n",
      " 34  bain_nb            4048 non-null   float64\n",
      " 35  etage_nb           4048 non-null   int64  \n",
      " 36  salon_nb           4048 non-null   int64  \n",
      "dtypes: float64(5), int64(18), object(14)\n",
      "memory usage: 1.2+ MB\n"
     ]
    }
   ],
   "source": [
    "df.info()"
   ]
  },
  {
   "cell_type": "code",
   "execution_count": 416,
   "id": "4497bbd7",
   "metadata": {},
   "outputs": [],
   "source": [
    "df2 = df.drop(['title', 'surface_totale', 'surface_habitable', 'chambre', 'bain', 'Loti', 'Titre',\n",
    "               'Jardin', 'Piscine', 'Garage',\n",
    "               'ville', 'time', 'secteur', 'type', 'age', 'salon', 'etage', 'description'], axis=1)"
   ]
  },
  {
   "cell_type": "code",
   "execution_count": 417,
   "id": "b302fc45",
   "metadata": {},
   "outputs": [
    {
     "name": "stdout",
     "output_type": "stream",
     "text": [
      "<class 'pandas.core.frame.DataFrame'>\n",
      "Index: 4048 entries, https://www.avito.ma/fr/centre_ville/appartements/saroute_appartement__48760839.htm to https://www.avito.ma/fr/anfa/appartements/Appartement_en_Vente_%C3%A0_Casablanca_47105280.htm\n",
      "Data columns (total 19 columns):\n",
      " #   Column          Non-Null Count  Dtype  \n",
      "---  ------          --------------  -----  \n",
      " 0   price           4048 non-null   float64\n",
      " 1   Concierge       4048 non-null   int64  \n",
      " 2   Balcon          4048 non-null   int64  \n",
      " 3   Terrasse        4048 non-null   int64  \n",
      " 4   Securite        4048 non-null   int64  \n",
      " 5   Parking         4048 non-null   int64  \n",
      " 6   Ascenseur       4048 non-null   int64  \n",
      " 7   Climatisation   4048 non-null   int64  \n",
      " 8   CuisineEquipee  4048 non-null   int64  \n",
      " 9   Chauffage       4048 non-null   int64  \n",
      " 10  Duplex          4048 non-null   int64  \n",
      " 11  Meuble          4048 non-null   int64  \n",
      " 12  geocode         4048 non-null   object \n",
      " 13  surface         4048 non-null   float64\n",
      " 14  age_int         4048 non-null   float64\n",
      " 15  chambre_nb      4048 non-null   float64\n",
      " 16  bain_nb         4048 non-null   float64\n",
      " 17  etage_nb        4048 non-null   int64  \n",
      " 18  salon_nb        4048 non-null   int64  \n",
      "dtypes: float64(5), int64(13), object(1)\n",
      "memory usage: 632.5+ KB\n"
     ]
    }
   ],
   "source": [
    "df2.info()"
   ]
  },
  {
   "cell_type": "code",
   "execution_count": 418,
   "id": "0e2aa371",
   "metadata": {
    "scrolled": true
   },
   "outputs": [
    {
     "data": {
      "text/html": [
       "<div>\n",
       "<style scoped>\n",
       "    .dataframe tbody tr th:only-of-type {\n",
       "        vertical-align: middle;\n",
       "    }\n",
       "\n",
       "    .dataframe tbody tr th {\n",
       "        vertical-align: top;\n",
       "    }\n",
       "\n",
       "    .dataframe thead th {\n",
       "        text-align: right;\n",
       "    }\n",
       "</style>\n",
       "<table border=\"1\" class=\"dataframe\">\n",
       "  <thead>\n",
       "    <tr style=\"text-align: right;\">\n",
       "      <th></th>\n",
       "      <th>price</th>\n",
       "      <th>Concierge</th>\n",
       "      <th>Balcon</th>\n",
       "      <th>Terrasse</th>\n",
       "      <th>Securite</th>\n",
       "      <th>Parking</th>\n",
       "      <th>Ascenseur</th>\n",
       "      <th>Climatisation</th>\n",
       "      <th>CuisineEquipee</th>\n",
       "      <th>Chauffage</th>\n",
       "      <th>Duplex</th>\n",
       "      <th>Meuble</th>\n",
       "      <th>surface</th>\n",
       "      <th>age_int</th>\n",
       "      <th>chambre_nb</th>\n",
       "      <th>bain_nb</th>\n",
       "      <th>etage_nb</th>\n",
       "      <th>salon_nb</th>\n",
       "    </tr>\n",
       "  </thead>\n",
       "  <tbody>\n",
       "    <tr>\n",
       "      <th>count</th>\n",
       "      <td>4.048000e+03</td>\n",
       "      <td>4048.000000</td>\n",
       "      <td>4048.000000</td>\n",
       "      <td>4048.000000</td>\n",
       "      <td>4048.000000</td>\n",
       "      <td>4048.000000</td>\n",
       "      <td>4048.000000</td>\n",
       "      <td>4048.000000</td>\n",
       "      <td>4048.000000</td>\n",
       "      <td>4048.000000</td>\n",
       "      <td>4048.000000</td>\n",
       "      <td>4048.000000</td>\n",
       "      <td>4048.000000</td>\n",
       "      <td>4048.000000</td>\n",
       "      <td>4048.000000</td>\n",
       "      <td>4048.000000</td>\n",
       "      <td>4048.000000</td>\n",
       "      <td>4048.000000</td>\n",
       "    </tr>\n",
       "    <tr>\n",
       "      <th>mean</th>\n",
       "      <td>1.878578e+06</td>\n",
       "      <td>0.327569</td>\n",
       "      <td>0.380682</td>\n",
       "      <td>0.236413</td>\n",
       "      <td>0.352273</td>\n",
       "      <td>0.399704</td>\n",
       "      <td>0.348320</td>\n",
       "      <td>0.156126</td>\n",
       "      <td>0.315958</td>\n",
       "      <td>0.094121</td>\n",
       "      <td>0.015563</td>\n",
       "      <td>0.076581</td>\n",
       "      <td>288.809042</td>\n",
       "      <td>9.889081</td>\n",
       "      <td>2.404891</td>\n",
       "      <td>1.484437</td>\n",
       "      <td>2.476532</td>\n",
       "      <td>1.237401</td>\n",
       "    </tr>\n",
       "    <tr>\n",
       "      <th>std</th>\n",
       "      <td>1.505957e+07</td>\n",
       "      <td>0.469385</td>\n",
       "      <td>0.485614</td>\n",
       "      <td>0.424931</td>\n",
       "      <td>0.477737</td>\n",
       "      <td>0.489898</td>\n",
       "      <td>0.476497</td>\n",
       "      <td>0.363020</td>\n",
       "      <td>0.464954</td>\n",
       "      <td>0.292032</td>\n",
       "      <td>0.123793</td>\n",
       "      <td>0.265958</td>\n",
       "      <td>9586.624556</td>\n",
       "      <td>5.776352</td>\n",
       "      <td>0.818519</td>\n",
       "      <td>0.609013</td>\n",
       "      <td>1.569553</td>\n",
       "      <td>0.505189</td>\n",
       "    </tr>\n",
       "    <tr>\n",
       "      <th>min</th>\n",
       "      <td>1.000000e+00</td>\n",
       "      <td>0.000000</td>\n",
       "      <td>0.000000</td>\n",
       "      <td>0.000000</td>\n",
       "      <td>0.000000</td>\n",
       "      <td>0.000000</td>\n",
       "      <td>0.000000</td>\n",
       "      <td>0.000000</td>\n",
       "      <td>0.000000</td>\n",
       "      <td>0.000000</td>\n",
       "      <td>0.000000</td>\n",
       "      <td>0.000000</td>\n",
       "      <td>1.000000</td>\n",
       "      <td>0.500000</td>\n",
       "      <td>1.000000</td>\n",
       "      <td>0.000000</td>\n",
       "      <td>0.000000</td>\n",
       "      <td>0.000000</td>\n",
       "    </tr>\n",
       "    <tr>\n",
       "      <th>25%</th>\n",
       "      <td>4.000000e+05</td>\n",
       "      <td>0.000000</td>\n",
       "      <td>0.000000</td>\n",
       "      <td>0.000000</td>\n",
       "      <td>0.000000</td>\n",
       "      <td>0.000000</td>\n",
       "      <td>0.000000</td>\n",
       "      <td>0.000000</td>\n",
       "      <td>0.000000</td>\n",
       "      <td>0.000000</td>\n",
       "      <td>0.000000</td>\n",
       "      <td>0.000000</td>\n",
       "      <td>60.000000</td>\n",
       "      <td>7.500000</td>\n",
       "      <td>2.000000</td>\n",
       "      <td>1.000000</td>\n",
       "      <td>1.000000</td>\n",
       "      <td>1.000000</td>\n",
       "    </tr>\n",
       "    <tr>\n",
       "      <th>50%</th>\n",
       "      <td>7.325000e+05</td>\n",
       "      <td>0.000000</td>\n",
       "      <td>0.000000</td>\n",
       "      <td>0.000000</td>\n",
       "      <td>0.000000</td>\n",
       "      <td>0.000000</td>\n",
       "      <td>0.000000</td>\n",
       "      <td>0.000000</td>\n",
       "      <td>0.000000</td>\n",
       "      <td>0.000000</td>\n",
       "      <td>0.000000</td>\n",
       "      <td>0.000000</td>\n",
       "      <td>80.000000</td>\n",
       "      <td>10.000000</td>\n",
       "      <td>2.000000</td>\n",
       "      <td>1.000000</td>\n",
       "      <td>2.000000</td>\n",
       "      <td>1.000000</td>\n",
       "    </tr>\n",
       "    <tr>\n",
       "      <th>75%</th>\n",
       "      <td>1.290000e+06</td>\n",
       "      <td>1.000000</td>\n",
       "      <td>1.000000</td>\n",
       "      <td>0.000000</td>\n",
       "      <td>1.000000</td>\n",
       "      <td>1.000000</td>\n",
       "      <td>1.000000</td>\n",
       "      <td>0.000000</td>\n",
       "      <td>1.000000</td>\n",
       "      <td>0.000000</td>\n",
       "      <td>0.000000</td>\n",
       "      <td>0.000000</td>\n",
       "      <td>111.000000</td>\n",
       "      <td>15.000000</td>\n",
       "      <td>3.000000</td>\n",
       "      <td>2.000000</td>\n",
       "      <td>4.000000</td>\n",
       "      <td>1.000000</td>\n",
       "    </tr>\n",
       "    <tr>\n",
       "      <th>max</th>\n",
       "      <td>6.700000e+08</td>\n",
       "      <td>1.000000</td>\n",
       "      <td>1.000000</td>\n",
       "      <td>1.000000</td>\n",
       "      <td>1.000000</td>\n",
       "      <td>1.000000</td>\n",
       "      <td>1.000000</td>\n",
       "      <td>1.000000</td>\n",
       "      <td>1.000000</td>\n",
       "      <td>1.000000</td>\n",
       "      <td>1.000000</td>\n",
       "      <td>1.000000</td>\n",
       "      <td>580000.000000</td>\n",
       "      <td>25.000000</td>\n",
       "      <td>10.000000</td>\n",
       "      <td>7.000000</td>\n",
       "      <td>7.000000</td>\n",
       "      <td>7.000000</td>\n",
       "    </tr>\n",
       "  </tbody>\n",
       "</table>\n",
       "</div>"
      ],
      "text/plain": [
       "              price    Concierge       Balcon     Terrasse     Securite  \\\n",
       "count  4.048000e+03  4048.000000  4048.000000  4048.000000  4048.000000   \n",
       "mean   1.878578e+06     0.327569     0.380682     0.236413     0.352273   \n",
       "std    1.505957e+07     0.469385     0.485614     0.424931     0.477737   \n",
       "min    1.000000e+00     0.000000     0.000000     0.000000     0.000000   \n",
       "25%    4.000000e+05     0.000000     0.000000     0.000000     0.000000   \n",
       "50%    7.325000e+05     0.000000     0.000000     0.000000     0.000000   \n",
       "75%    1.290000e+06     1.000000     1.000000     0.000000     1.000000   \n",
       "max    6.700000e+08     1.000000     1.000000     1.000000     1.000000   \n",
       "\n",
       "           Parking    Ascenseur  Climatisation  CuisineEquipee    Chauffage  \\\n",
       "count  4048.000000  4048.000000    4048.000000     4048.000000  4048.000000   \n",
       "mean      0.399704     0.348320       0.156126        0.315958     0.094121   \n",
       "std       0.489898     0.476497       0.363020        0.464954     0.292032   \n",
       "min       0.000000     0.000000       0.000000        0.000000     0.000000   \n",
       "25%       0.000000     0.000000       0.000000        0.000000     0.000000   \n",
       "50%       0.000000     0.000000       0.000000        0.000000     0.000000   \n",
       "75%       1.000000     1.000000       0.000000        1.000000     0.000000   \n",
       "max       1.000000     1.000000       1.000000        1.000000     1.000000   \n",
       "\n",
       "            Duplex       Meuble        surface      age_int   chambre_nb  \\\n",
       "count  4048.000000  4048.000000    4048.000000  4048.000000  4048.000000   \n",
       "mean      0.015563     0.076581     288.809042     9.889081     2.404891   \n",
       "std       0.123793     0.265958    9586.624556     5.776352     0.818519   \n",
       "min       0.000000     0.000000       1.000000     0.500000     1.000000   \n",
       "25%       0.000000     0.000000      60.000000     7.500000     2.000000   \n",
       "50%       0.000000     0.000000      80.000000    10.000000     2.000000   \n",
       "75%       0.000000     0.000000     111.000000    15.000000     3.000000   \n",
       "max       1.000000     1.000000  580000.000000    25.000000    10.000000   \n",
       "\n",
       "           bain_nb     etage_nb     salon_nb  \n",
       "count  4048.000000  4048.000000  4048.000000  \n",
       "mean      1.484437     2.476532     1.237401  \n",
       "std       0.609013     1.569553     0.505189  \n",
       "min       0.000000     0.000000     0.000000  \n",
       "25%       1.000000     1.000000     1.000000  \n",
       "50%       1.000000     2.000000     1.000000  \n",
       "75%       2.000000     4.000000     1.000000  \n",
       "max       7.000000     7.000000     7.000000  "
      ]
     },
     "execution_count": 418,
     "metadata": {},
     "output_type": "execute_result"
    }
   ],
   "source": [
    "df2.describe()"
   ]
  },
  {
   "cell_type": "markdown",
   "id": "8eb1b9ef",
   "metadata": {},
   "source": [
    "### Outliers "
   ]
  },
  {
   "cell_type": "code",
   "execution_count": 419,
   "id": "8ab3eac5",
   "metadata": {},
   "outputs": [
    {
     "name": "stderr",
     "output_type": "stream",
     "text": [
      "C:\\Users\\yassine\\anaconda3\\lib\\site-packages\\seaborn\\_decorators.py:36: FutureWarning: Pass the following variable as a keyword arg: x. From version 0.12, the only valid positional argument will be `data`, and passing other arguments without an explicit keyword will result in an error or misinterpretation.\n",
      "  warnings.warn(\n"
     ]
    },
    {
     "data": {
      "text/plain": [
       "<AxesSubplot:xlabel='surface'>"
      ]
     },
     "execution_count": 419,
     "metadata": {},
     "output_type": "execute_result"
    },
    {
     "data": {
      "image/png": "[encoded data removed]",
      "text/plain": [
       "<Figure size 432x288 with 1 Axes>"
      ]
     },
     "metadata": {
      "needs_background": "light"
     },
     "output_type": "display_data"
    }
   ],
   "source": [
    "import seaborn as sns\n",
    "sns.boxplot(df2['surface'])"
   ]
  },
  {
   "cell_type": "code",
   "execution_count": 420,
   "id": "16a063a4",
   "metadata": {},
   "outputs": [
    {
     "name": "stderr",
     "output_type": "stream",
     "text": [
      "C:\\Users\\yassine\\anaconda3\\lib\\site-packages\\seaborn\\_decorators.py:36: FutureWarning: Pass the following variable as a keyword arg: x. From version 0.12, the only valid positional argument will be `data`, and passing other arguments without an explicit keyword will result in an error or misinterpretation.\n",
      "  warnings.warn(\n"
     ]
    },
    {
     "data": {
      "text/plain": [
       "<AxesSubplot:xlabel='surface'>"
      ]
     },
     "execution_count": 420,
     "metadata": {},
     "output_type": "execute_result"
    },
    {
     "data": {
      "image/png": "[encoded data removed]",
      "text/plain": [
       "<Figure size 432x288 with 1 Axes>"
      ]
     },
     "metadata": {
      "needs_background": "light"
     },
     "output_type": "display_data"
    }
   ],
   "source": [
    "sns.boxplot(df2[df2['surface']<210]['surface'])"
   ]
  },
  {
   "cell_type": "code",
   "execution_count": 421,
   "id": "3a4217ea",
   "metadata": {},
   "outputs": [
    {
     "name": "stdout",
     "output_type": "stream",
     "text": [
      "(array([ 131,  340,  378,  505,  693,  757,  855,  931,  934, 1702, 1729,\n",
      "       1736, 1771, 1847, 2062, 2176, 2413, 2557, 2631, 2704, 2883, 3092,\n",
      "       3197, 3205, 3287, 3301, 3498, 3690, 3716, 3827, 4002], dtype=int64),)\n"
     ]
    }
   ],
   "source": [
    "print(np.where(df2['surface']<15))"
   ]
  },
  {
   "cell_type": "code",
   "execution_count": 422,
   "id": "3e1b89e3",
   "metadata": {},
   "outputs": [],
   "source": [
    "df3 = df2[(df2['surface']<200) & (df2['surface']>15)]"
   ]
  },
  {
   "cell_type": "code",
   "execution_count": 423,
   "id": "7ac7abc0",
   "metadata": {},
   "outputs": [
    {
     "name": "stderr",
     "output_type": "stream",
     "text": [
      "C:\\Users\\yassine\\anaconda3\\lib\\site-packages\\seaborn\\_decorators.py:36: FutureWarning: Pass the following variable as a keyword arg: x. From version 0.12, the only valid positional argument will be `data`, and passing other arguments without an explicit keyword will result in an error or misinterpretation.\n",
      "  warnings.warn(\n"
     ]
    },
    {
     "data": {
      "text/plain": [
       "<AxesSubplot:xlabel='price'>"
      ]
     },
     "execution_count": 423,
     "metadata": {},
     "output_type": "execute_result"
    },
    {
     "data": {
      "image/png": "[encoded data removed]",
      "text/plain": [
       "<Figure size 432x288 with 1 Axes>"
      ]
     },
     "metadata": {
      "needs_background": "light"
     },
     "output_type": "display_data"
    }
   ],
   "source": [
    "sns.boxplot(df3['price'])"
   ]
  },
  {
   "cell_type": "code",
   "execution_count": 424,
   "id": "375a6fee",
   "metadata": {},
   "outputs": [
    {
     "name": "stderr",
     "output_type": "stream",
     "text": [
      "C:\\Users\\yassine\\anaconda3\\lib\\site-packages\\seaborn\\_decorators.py:36: FutureWarning: Pass the following variable as a keyword arg: x. From version 0.12, the only valid positional argument will be `data`, and passing other arguments without an explicit keyword will result in an error or misinterpretation.\n",
      "  warnings.warn(\n"
     ]
    },
    {
     "data": {
      "text/plain": [
       "<AxesSubplot:xlabel='price'>"
      ]
     },
     "execution_count": 424,
     "metadata": {},
     "output_type": "execute_result"
    },
    {
     "data": {
      "image/png": "[encoded data removed]",
      "text/plain": [
       "<Figure size 432x288 with 1 Axes>"
      ]
     },
     "metadata": {
      "needs_background": "light"
     },
     "output_type": "display_data"
    }
   ],
   "source": [
    "sns.boxplot(df3[df3['price']<3000000]['price'])"
   ]
  },
  {
   "cell_type": "code",
   "execution_count": 425,
   "id": "d0b0563d",
   "metadata": {},
   "outputs": [
    {
     "name": "stdout",
     "output_type": "stream",
     "text": [
      "(array([  71,   77,   79,   86,  100,  183,  197,  236,  239,  240,  258,\n",
      "        260,  263,  269,  278,  281,  326,  329,  333,  374,  390,  400,\n",
      "        401,  411,  415,  451,  463,  525,  558,  575,  580,  585,  595,\n",
      "        598,  599,  611,  621,  633,  644,  656,  663,  676,  687,  713,\n",
      "        716,  718,  740,  753,  794,  810,  822,  827,  844,  847,  869,\n",
      "        873,  891,  893,  899,  907,  934,  936,  944,  948,  967,  969,\n",
      "        983,  989,  992, 1004, 1027, 1028, 1081, 1084, 1090, 1100, 1113,\n",
      "       1148, 1179, 1180, 1197, 1209, 1246, 1263, 1270, 1275, 1280, 1326,\n",
      "       1328, 1329, 1335, 1358, 1363, 1365, 1380, 1396, 1404, 1421, 1429,\n",
      "       1454, 1486, 1496, 1502, 1516, 1523, 1536, 1550, 1557, 1559, 1570,\n",
      "       1579, 1585, 1586, 1588, 1605, 1624, 1626, 1630, 1631, 1632, 1633,\n",
      "       1639, 1652, 1653, 1663, 1667, 1674, 1709, 1710, 1718, 1733, 1791,\n",
      "       1800, 1820, 1824, 1835, 1847, 1855, 1869, 1901, 1924, 1929, 1934,\n",
      "       1943, 1948, 1951, 1952, 1959, 2024, 2029, 2037, 2039, 2074, 2104,\n",
      "       2108, 2118, 2126, 2137, 2157, 2172, 2180, 2181, 2189, 2228, 2236,\n",
      "       2238, 2284, 2297, 2303, 2307, 2315, 2316, 2328, 2338, 2354, 2366,\n",
      "       2368, 2373, 2392, 2439, 2440, 2447, 2462, 2472, 2479, 2490, 2513,\n",
      "       2517, 2528, 2533, 2559, 2589, 2604, 2606, 2613, 2615, 2623, 2641,\n",
      "       2645, 2655, 2693, 2696, 2708, 2716, 2747, 2751, 2755, 2784, 2810,\n",
      "       2812, 2837, 2841, 2842, 2857, 2859, 2881, 2897, 2914, 2915, 2922,\n",
      "       2962, 2963, 2964, 2989, 2998, 3008, 3024, 3055, 3064, 3132, 3138,\n",
      "       3139, 3144, 3161, 3171, 3173, 3175, 3199, 3206, 3208, 3213, 3223,\n",
      "       3230, 3299, 3308, 3321, 3339, 3347, 3353, 3365, 3367, 3378, 3387,\n",
      "       3389, 3394, 3401, 3416, 3423, 3436, 3439, 3449, 3493, 3529, 3530,\n",
      "       3533, 3541, 3547, 3558, 3561, 3573, 3588, 3589, 3597, 3604, 3609,\n",
      "       3617, 3628, 3633, 3634, 3644, 3651, 3676, 3678, 3684, 3698, 3700,\n",
      "       3705, 3713, 3718, 3721, 3736, 3740, 3743, 3751, 3761, 3764, 3768,\n",
      "       3771, 3773, 3795, 3865, 3884], dtype=int64),)\n"
     ]
    }
   ],
   "source": [
    "print(np.where(df3['price']<200000))"
   ]
  },
  {
   "cell_type": "code",
   "execution_count": 426,
   "id": "70377758",
   "metadata": {},
   "outputs": [],
   "source": [
    "df3 = df3[(df3['price']<3000000) & (df3['price']>200000)]"
   ]
  },
  {
   "cell_type": "code",
   "execution_count": 427,
   "id": "16fe482c",
   "metadata": {},
   "outputs": [
    {
     "data": {
      "image/png": "[encoded data removed]",
      "text/plain": [
       "<Figure size 1296x720 with 1 Axes>"
      ]
     },
     "metadata": {
      "needs_background": "light"
     },
     "output_type": "display_data"
    }
   ],
   "source": [
    "import matplotlib.pyplot as plt\n",
    "fig, ax = plt.subplots(figsize = (18,10))\n",
    "ax.scatter(df3['price'], df3['surface'])\n",
    " \n",
    "# x-axis label\n",
    "ax.set_xlabel('price')\n",
    " \n",
    "# y-axis label\n",
    "ax.set_ylabel('surface')\n",
    "plt.show()"
   ]
  },
  {
   "cell_type": "code",
   "execution_count": 428,
   "id": "63232ebe",
   "metadata": {},
   "outputs": [
    {
     "name": "stderr",
     "output_type": "stream",
     "text": [
      "C:\\Users\\yassine\\anaconda3\\lib\\site-packages\\seaborn\\_decorators.py:36: FutureWarning: Pass the following variable as a keyword arg: x. From version 0.12, the only valid positional argument will be `data`, and passing other arguments without an explicit keyword will result in an error or misinterpretation.\n",
      "  warnings.warn(\n"
     ]
    },
    {
     "data": {
      "text/plain": [
       "<AxesSubplot:xlabel='chambre_nb'>"
      ]
     },
     "execution_count": 428,
     "metadata": {},
     "output_type": "execute_result"
    },
    {
     "data": {
      "image/png": "[encoded data removed]",
      "text/plain": [
       "<Figure size 432x288 with 1 Axes>"
      ]
     },
     "metadata": {
      "needs_background": "light"
     },
     "output_type": "display_data"
    }
   ],
   "source": [
    "sns.boxplot(df3['chambre_nb'])"
   ]
  },
  {
   "cell_type": "code",
   "execution_count": 429,
   "id": "2f24d31b",
   "metadata": {},
   "outputs": [
    {
     "name": "stdout",
     "output_type": "stream",
     "text": [
      "(array([  85,  203,  309,  370,  392,  468,  542,  550,  559,  656,  679,\n",
      "        796,  799,  844,  925, 1202, 1265, 1286, 1293, 1402, 1422, 1579,\n",
      "       1670, 1685, 1705, 1725, 1756, 1772, 1795, 1799, 1800, 1809, 1905,\n",
      "       1949, 2024, 2135, 2137, 2153, 2173, 2292, 2397, 2539, 2547, 2766,\n",
      "       2941, 2946, 3055, 3232, 3289, 3306, 3309, 3319, 3361], dtype=int64),)\n"
     ]
    }
   ],
   "source": [
    "print(np.where(df3['chambre_nb']>4))"
   ]
  },
  {
   "cell_type": "code",
   "execution_count": 430,
   "id": "5d222b29",
   "metadata": {},
   "outputs": [],
   "source": [
    "df3 = df3[df3['chambre_nb']<=4]"
   ]
  },
  {
   "cell_type": "code",
   "execution_count": 431,
   "id": "5ac84663",
   "metadata": {},
   "outputs": [],
   "source": [
    "df3 = df3[df3['bain_nb']<=3]"
   ]
  },
  {
   "cell_type": "code",
   "execution_count": 432,
   "id": "2e7c7334",
   "metadata": {},
   "outputs": [
    {
     "name": "stderr",
     "output_type": "stream",
     "text": [
      "C:\\Users\\yassine\\anaconda3\\lib\\site-packages\\seaborn\\_decorators.py:36: FutureWarning: Pass the following variable as a keyword arg: x. From version 0.12, the only valid positional argument will be `data`, and passing other arguments without an explicit keyword will result in an error or misinterpretation.\n",
      "  warnings.warn(\n"
     ]
    },
    {
     "data": {
      "text/plain": [
       "<AxesSubplot:xlabel='chambre_nb'>"
      ]
     },
     "execution_count": 432,
     "metadata": {},
     "output_type": "execute_result"
    },
    {
     "data": {
      "image/png": "[encoded data removed]",
      "text/plain": [
       "<Figure size 432x288 with 1 Axes>"
      ]
     },
     "metadata": {
      "needs_background": "light"
     },
     "output_type": "display_data"
    }
   ],
   "source": [
    "sns.boxplot(df3['chambre_nb'])"
   ]
  },
  {
   "cell_type": "code",
   "execution_count": 433,
   "id": "668127cb",
   "metadata": {},
   "outputs": [
    {
     "name": "stderr",
     "output_type": "stream",
     "text": [
      "C:\\Users\\yassine\\anaconda3\\lib\\site-packages\\seaborn\\_decorators.py:36: FutureWarning: Pass the following variable as a keyword arg: x. From version 0.12, the only valid positional argument will be `data`, and passing other arguments without an explicit keyword will result in an error or misinterpretation.\n",
      "  warnings.warn(\n"
     ]
    },
    {
     "data": {
      "text/plain": [
       "<AxesSubplot:xlabel='bain_nb'>"
      ]
     },
     "execution_count": 433,
     "metadata": {},
     "output_type": "execute_result"
    },
    {
     "data": {
      "image/png": "[encoded data removed]",
      "text/plain": [
       "<Figure size 432x288 with 1 Axes>"
      ]
     },
     "metadata": {
      "needs_background": "light"
     },
     "output_type": "display_data"
    }
   ],
   "source": [
    "sns.boxplot(df3['bain_nb'])"
   ]
  },
  {
   "cell_type": "code",
   "execution_count": 434,
   "id": "071fe237",
   "metadata": {},
   "outputs": [
    {
     "data": {
      "text/html": [
       "<div>\n",
       "<style scoped>\n",
       "    .dataframe tbody tr th:only-of-type {\n",
       "        vertical-align: middle;\n",
       "    }\n",
       "\n",
       "    .dataframe tbody tr th {\n",
       "        vertical-align: top;\n",
       "    }\n",
       "\n",
       "    .dataframe thead th {\n",
       "        text-align: right;\n",
       "    }\n",
       "</style>\n",
       "<table border=\"1\" class=\"dataframe\">\n",
       "  <thead>\n",
       "    <tr style=\"text-align: right;\">\n",
       "      <th></th>\n",
       "      <th>price</th>\n",
       "      <th>Concierge</th>\n",
       "      <th>Balcon</th>\n",
       "      <th>Terrasse</th>\n",
       "      <th>Securite</th>\n",
       "      <th>Parking</th>\n",
       "      <th>Ascenseur</th>\n",
       "      <th>Climatisation</th>\n",
       "      <th>CuisineEquipee</th>\n",
       "      <th>Chauffage</th>\n",
       "      <th>Duplex</th>\n",
       "      <th>Meuble</th>\n",
       "      <th>surface</th>\n",
       "      <th>age_int</th>\n",
       "      <th>chambre_nb</th>\n",
       "      <th>bain_nb</th>\n",
       "      <th>etage_nb</th>\n",
       "      <th>salon_nb</th>\n",
       "    </tr>\n",
       "  </thead>\n",
       "  <tbody>\n",
       "    <tr>\n",
       "      <th>price</th>\n",
       "      <td>1.000000</td>\n",
       "      <td>0.373484</td>\n",
       "      <td>0.220439</td>\n",
       "      <td>0.251313</td>\n",
       "      <td>0.268893</td>\n",
       "      <td>0.363962</td>\n",
       "      <td>0.471929</td>\n",
       "      <td>0.360443</td>\n",
       "      <td>0.284516</td>\n",
       "      <td>0.300170</td>\n",
       "      <td>0.066947</td>\n",
       "      <td>0.075036</td>\n",
       "      <td>0.835445</td>\n",
       "      <td>0.069727</td>\n",
       "      <td>0.441690</td>\n",
       "      <td>0.611052</td>\n",
       "      <td>0.169238</td>\n",
       "      <td>0.359248</td>\n",
       "    </tr>\n",
       "    <tr>\n",
       "      <th>Concierge</th>\n",
       "      <td>0.373484</td>\n",
       "      <td>1.000000</td>\n",
       "      <td>0.425625</td>\n",
       "      <td>0.373973</td>\n",
       "      <td>0.616576</td>\n",
       "      <td>0.635368</td>\n",
       "      <td>0.634898</td>\n",
       "      <td>0.405510</td>\n",
       "      <td>0.507489</td>\n",
       "      <td>0.340760</td>\n",
       "      <td>0.020367</td>\n",
       "      <td>0.168190</td>\n",
       "      <td>0.276983</td>\n",
       "      <td>-0.070982</td>\n",
       "      <td>0.025208</td>\n",
       "      <td>0.261676</td>\n",
       "      <td>0.137361</td>\n",
       "      <td>0.160499</td>\n",
       "    </tr>\n",
       "    <tr>\n",
       "      <th>Balcon</th>\n",
       "      <td>0.220439</td>\n",
       "      <td>0.425625</td>\n",
       "      <td>1.000000</td>\n",
       "      <td>0.296981</td>\n",
       "      <td>0.433716</td>\n",
       "      <td>0.461131</td>\n",
       "      <td>0.434596</td>\n",
       "      <td>0.306249</td>\n",
       "      <td>0.407728</td>\n",
       "      <td>0.255746</td>\n",
       "      <td>0.035616</td>\n",
       "      <td>0.111395</td>\n",
       "      <td>0.168362</td>\n",
       "      <td>-0.116841</td>\n",
       "      <td>0.039996</td>\n",
       "      <td>0.199032</td>\n",
       "      <td>0.149182</td>\n",
       "      <td>0.116447</td>\n",
       "    </tr>\n",
       "    <tr>\n",
       "      <th>Terrasse</th>\n",
       "      <td>0.251313</td>\n",
       "      <td>0.373973</td>\n",
       "      <td>0.296981</td>\n",
       "      <td>1.000000</td>\n",
       "      <td>0.374170</td>\n",
       "      <td>0.395380</td>\n",
       "      <td>0.346563</td>\n",
       "      <td>0.276249</td>\n",
       "      <td>0.371880</td>\n",
       "      <td>0.243398</td>\n",
       "      <td>0.119099</td>\n",
       "      <td>0.123938</td>\n",
       "      <td>0.270952</td>\n",
       "      <td>-0.095918</td>\n",
       "      <td>0.068961</td>\n",
       "      <td>0.190987</td>\n",
       "      <td>0.009449</td>\n",
       "      <td>0.114459</td>\n",
       "    </tr>\n",
       "    <tr>\n",
       "      <th>Securite</th>\n",
       "      <td>0.268893</td>\n",
       "      <td>0.616576</td>\n",
       "      <td>0.433716</td>\n",
       "      <td>0.374170</td>\n",
       "      <td>1.000000</td>\n",
       "      <td>0.614331</td>\n",
       "      <td>0.538148</td>\n",
       "      <td>0.378671</td>\n",
       "      <td>0.545205</td>\n",
       "      <td>0.335021</td>\n",
       "      <td>0.026087</td>\n",
       "      <td>0.175462</td>\n",
       "      <td>0.182120</td>\n",
       "      <td>-0.155966</td>\n",
       "      <td>0.015347</td>\n",
       "      <td>0.222656</td>\n",
       "      <td>0.071477</td>\n",
       "      <td>0.128672</td>\n",
       "    </tr>\n",
       "    <tr>\n",
       "      <th>Parking</th>\n",
       "      <td>0.363962</td>\n",
       "      <td>0.635368</td>\n",
       "      <td>0.461131</td>\n",
       "      <td>0.395380</td>\n",
       "      <td>0.614331</td>\n",
       "      <td>1.000000</td>\n",
       "      <td>0.658368</td>\n",
       "      <td>0.354677</td>\n",
       "      <td>0.525989</td>\n",
       "      <td>0.277916</td>\n",
       "      <td>0.030194</td>\n",
       "      <td>0.163602</td>\n",
       "      <td>0.288265</td>\n",
       "      <td>-0.127992</td>\n",
       "      <td>0.034600</td>\n",
       "      <td>0.273983</td>\n",
       "      <td>0.111443</td>\n",
       "      <td>0.151837</td>\n",
       "    </tr>\n",
       "    <tr>\n",
       "      <th>Ascenseur</th>\n",
       "      <td>0.471929</td>\n",
       "      <td>0.634898</td>\n",
       "      <td>0.434596</td>\n",
       "      <td>0.346563</td>\n",
       "      <td>0.538148</td>\n",
       "      <td>0.658368</td>\n",
       "      <td>1.000000</td>\n",
       "      <td>0.404635</td>\n",
       "      <td>0.496721</td>\n",
       "      <td>0.318027</td>\n",
       "      <td>0.021616</td>\n",
       "      <td>0.136530</td>\n",
       "      <td>0.346197</td>\n",
       "      <td>-0.077922</td>\n",
       "      <td>0.051810</td>\n",
       "      <td>0.333232</td>\n",
       "      <td>0.238161</td>\n",
       "      <td>0.181514</td>\n",
       "    </tr>\n",
       "    <tr>\n",
       "      <th>Climatisation</th>\n",
       "      <td>0.360443</td>\n",
       "      <td>0.405510</td>\n",
       "      <td>0.306249</td>\n",
       "      <td>0.276249</td>\n",
       "      <td>0.378671</td>\n",
       "      <td>0.354677</td>\n",
       "      <td>0.404635</td>\n",
       "      <td>1.000000</td>\n",
       "      <td>0.460771</td>\n",
       "      <td>0.634333</td>\n",
       "      <td>0.060192</td>\n",
       "      <td>0.208739</td>\n",
       "      <td>0.223296</td>\n",
       "      <td>-0.146166</td>\n",
       "      <td>0.071761</td>\n",
       "      <td>0.251554</td>\n",
       "      <td>0.125427</td>\n",
       "      <td>0.120207</td>\n",
       "    </tr>\n",
       "    <tr>\n",
       "      <th>CuisineEquipee</th>\n",
       "      <td>0.284516</td>\n",
       "      <td>0.507489</td>\n",
       "      <td>0.407728</td>\n",
       "      <td>0.371880</td>\n",
       "      <td>0.545205</td>\n",
       "      <td>0.525989</td>\n",
       "      <td>0.496721</td>\n",
       "      <td>0.460771</td>\n",
       "      <td>1.000000</td>\n",
       "      <td>0.369918</td>\n",
       "      <td>0.052507</td>\n",
       "      <td>0.275982</td>\n",
       "      <td>0.195941</td>\n",
       "      <td>-0.238557</td>\n",
       "      <td>0.015306</td>\n",
       "      <td>0.254323</td>\n",
       "      <td>0.063505</td>\n",
       "      <td>0.124387</td>\n",
       "    </tr>\n",
       "    <tr>\n",
       "      <th>Chauffage</th>\n",
       "      <td>0.300170</td>\n",
       "      <td>0.340760</td>\n",
       "      <td>0.255746</td>\n",
       "      <td>0.243398</td>\n",
       "      <td>0.335021</td>\n",
       "      <td>0.277916</td>\n",
       "      <td>0.318027</td>\n",
       "      <td>0.634333</td>\n",
       "      <td>0.369918</td>\n",
       "      <td>1.000000</td>\n",
       "      <td>0.041673</td>\n",
       "      <td>0.183389</td>\n",
       "      <td>0.183770</td>\n",
       "      <td>-0.129949</td>\n",
       "      <td>0.061509</td>\n",
       "      <td>0.207840</td>\n",
       "      <td>0.096771</td>\n",
       "      <td>0.104136</td>\n",
       "    </tr>\n",
       "    <tr>\n",
       "      <th>Duplex</th>\n",
       "      <td>0.066947</td>\n",
       "      <td>0.020367</td>\n",
       "      <td>0.035616</td>\n",
       "      <td>0.119099</td>\n",
       "      <td>0.026087</td>\n",
       "      <td>0.030194</td>\n",
       "      <td>0.021616</td>\n",
       "      <td>0.060192</td>\n",
       "      <td>0.052507</td>\n",
       "      <td>0.041673</td>\n",
       "      <td>1.000000</td>\n",
       "      <td>0.053534</td>\n",
       "      <td>0.100588</td>\n",
       "      <td>0.021503</td>\n",
       "      <td>0.052797</td>\n",
       "      <td>0.098819</td>\n",
       "      <td>0.009213</td>\n",
       "      <td>0.070876</td>\n",
       "    </tr>\n",
       "    <tr>\n",
       "      <th>Meuble</th>\n",
       "      <td>0.075036</td>\n",
       "      <td>0.168190</td>\n",
       "      <td>0.111395</td>\n",
       "      <td>0.123938</td>\n",
       "      <td>0.175462</td>\n",
       "      <td>0.163602</td>\n",
       "      <td>0.136530</td>\n",
       "      <td>0.208739</td>\n",
       "      <td>0.275982</td>\n",
       "      <td>0.183389</td>\n",
       "      <td>0.053534</td>\n",
       "      <td>1.000000</td>\n",
       "      <td>0.050925</td>\n",
       "      <td>-0.031378</td>\n",
       "      <td>-0.012575</td>\n",
       "      <td>0.051060</td>\n",
       "      <td>0.015102</td>\n",
       "      <td>0.038896</td>\n",
       "    </tr>\n",
       "    <tr>\n",
       "      <th>surface</th>\n",
       "      <td>0.835445</td>\n",
       "      <td>0.276983</td>\n",
       "      <td>0.168362</td>\n",
       "      <td>0.270952</td>\n",
       "      <td>0.182120</td>\n",
       "      <td>0.288265</td>\n",
       "      <td>0.346197</td>\n",
       "      <td>0.223296</td>\n",
       "      <td>0.195941</td>\n",
       "      <td>0.183770</td>\n",
       "      <td>0.100588</td>\n",
       "      <td>0.050925</td>\n",
       "      <td>1.000000</td>\n",
       "      <td>0.153399</td>\n",
       "      <td>0.577339</td>\n",
       "      <td>0.621329</td>\n",
       "      <td>0.107317</td>\n",
       "      <td>0.447463</td>\n",
       "    </tr>\n",
       "    <tr>\n",
       "      <th>age_int</th>\n",
       "      <td>0.069727</td>\n",
       "      <td>-0.070982</td>\n",
       "      <td>-0.116841</td>\n",
       "      <td>-0.095918</td>\n",
       "      <td>-0.155966</td>\n",
       "      <td>-0.127992</td>\n",
       "      <td>-0.077922</td>\n",
       "      <td>-0.146166</td>\n",
       "      <td>-0.238557</td>\n",
       "      <td>-0.129949</td>\n",
       "      <td>0.021503</td>\n",
       "      <td>-0.031378</td>\n",
       "      <td>0.153399</td>\n",
       "      <td>1.000000</td>\n",
       "      <td>0.084427</td>\n",
       "      <td>-0.027382</td>\n",
       "      <td>0.050769</td>\n",
       "      <td>0.084807</td>\n",
       "    </tr>\n",
       "    <tr>\n",
       "      <th>chambre_nb</th>\n",
       "      <td>0.441690</td>\n",
       "      <td>0.025208</td>\n",
       "      <td>0.039996</td>\n",
       "      <td>0.068961</td>\n",
       "      <td>0.015347</td>\n",
       "      <td>0.034600</td>\n",
       "      <td>0.051810</td>\n",
       "      <td>0.071761</td>\n",
       "      <td>0.015306</td>\n",
       "      <td>0.061509</td>\n",
       "      <td>0.052797</td>\n",
       "      <td>-0.012575</td>\n",
       "      <td>0.577339</td>\n",
       "      <td>0.084427</td>\n",
       "      <td>1.000000</td>\n",
       "      <td>0.404635</td>\n",
       "      <td>0.081188</td>\n",
       "      <td>0.184223</td>\n",
       "    </tr>\n",
       "    <tr>\n",
       "      <th>bain_nb</th>\n",
       "      <td>0.611052</td>\n",
       "      <td>0.261676</td>\n",
       "      <td>0.199032</td>\n",
       "      <td>0.190987</td>\n",
       "      <td>0.222656</td>\n",
       "      <td>0.273983</td>\n",
       "      <td>0.333232</td>\n",
       "      <td>0.251554</td>\n",
       "      <td>0.254323</td>\n",
       "      <td>0.207840</td>\n",
       "      <td>0.098819</td>\n",
       "      <td>0.051060</td>\n",
       "      <td>0.621329</td>\n",
       "      <td>-0.027382</td>\n",
       "      <td>0.404635</td>\n",
       "      <td>1.000000</td>\n",
       "      <td>0.092172</td>\n",
       "      <td>0.321016</td>\n",
       "    </tr>\n",
       "    <tr>\n",
       "      <th>etage_nb</th>\n",
       "      <td>0.169238</td>\n",
       "      <td>0.137361</td>\n",
       "      <td>0.149182</td>\n",
       "      <td>0.009449</td>\n",
       "      <td>0.071477</td>\n",
       "      <td>0.111443</td>\n",
       "      <td>0.238161</td>\n",
       "      <td>0.125427</td>\n",
       "      <td>0.063505</td>\n",
       "      <td>0.096771</td>\n",
       "      <td>0.009213</td>\n",
       "      <td>0.015102</td>\n",
       "      <td>0.107317</td>\n",
       "      <td>0.050769</td>\n",
       "      <td>0.081188</td>\n",
       "      <td>0.092172</td>\n",
       "      <td>1.000000</td>\n",
       "      <td>0.036281</td>\n",
       "    </tr>\n",
       "    <tr>\n",
       "      <th>salon_nb</th>\n",
       "      <td>0.359248</td>\n",
       "      <td>0.160499</td>\n",
       "      <td>0.116447</td>\n",
       "      <td>0.114459</td>\n",
       "      <td>0.128672</td>\n",
       "      <td>0.151837</td>\n",
       "      <td>0.181514</td>\n",
       "      <td>0.120207</td>\n",
       "      <td>0.124387</td>\n",
       "      <td>0.104136</td>\n",
       "      <td>0.070876</td>\n",
       "      <td>0.038896</td>\n",
       "      <td>0.447463</td>\n",
       "      <td>0.084807</td>\n",
       "      <td>0.184223</td>\n",
       "      <td>0.321016</td>\n",
       "      <td>0.036281</td>\n",
       "      <td>1.000000</td>\n",
       "    </tr>\n",
       "  </tbody>\n",
       "</table>\n",
       "</div>"
      ],
      "text/plain": [
       "                   price  Concierge    Balcon  Terrasse  Securite   Parking  \\\n",
       "price           1.000000   0.373484  0.220439  0.251313  0.268893  0.363962   \n",
       "Concierge       0.373484   1.000000  0.425625  0.373973  0.616576  0.635368   \n",
       "Balcon          0.220439   0.425625  1.000000  0.296981  0.433716  0.461131   \n",
       "Terrasse        0.251313   0.373973  0.296981  1.000000  0.374170  0.395380   \n",
       "Securite        0.268893   0.616576  0.433716  0.374170  1.000000  0.614331   \n",
       "Parking         0.363962   0.635368  0.461131  0.395380  0.614331  1.000000   \n",
       "Ascenseur       0.471929   0.634898  0.434596  0.346563  0.538148  0.658368   \n",
       "Climatisation   0.360443   0.405510  0.306249  0.276249  0.378671  0.354677   \n",
       "CuisineEquipee  0.284516   0.507489  0.407728  0.371880  0.545205  0.525989   \n",
       "Chauffage       0.300170   0.340760  0.255746  0.243398  0.335021  0.277916   \n",
       "Duplex          0.066947   0.020367  0.035616  0.119099  0.026087  0.030194   \n",
       "Meuble          0.075036   0.168190  0.111395  0.123938  0.175462  0.163602   \n",
       "surface         0.835445   0.276983  0.168362  0.270952  0.182120  0.288265   \n",
       "age_int         0.069727  -0.070982 -0.116841 -0.095918 -0.155966 -0.127992   \n",
       "chambre_nb      0.441690   0.025208  0.039996  0.068961  0.015347  0.034600   \n",
       "bain_nb         0.611052   0.261676  0.199032  0.190987  0.222656  0.273983   \n",
       "etage_nb        0.169238   0.137361  0.149182  0.009449  0.071477  0.111443   \n",
       "salon_nb        0.359248   0.160499  0.116447  0.114459  0.128672  0.151837   \n",
       "\n",
       "                Ascenseur  Climatisation  CuisineEquipee  Chauffage    Duplex  \\\n",
       "price            0.471929       0.360443        0.284516   0.300170  0.066947   \n",
       "Concierge        0.634898       0.405510        0.507489   0.340760  0.020367   \n",
       "Balcon           0.434596       0.306249        0.407728   0.255746  0.035616   \n",
       "Terrasse         0.346563       0.276249        0.371880   0.243398  0.119099   \n",
       "Securite         0.538148       0.378671        0.545205   0.335021  0.026087   \n",
       "Parking          0.658368       0.354677        0.525989   0.277916  0.030194   \n",
       "Ascenseur        1.000000       0.404635        0.496721   0.318027  0.021616   \n",
       "Climatisation    0.404635       1.000000        0.460771   0.634333  0.060192   \n",
       "CuisineEquipee   0.496721       0.460771        1.000000   0.369918  0.052507   \n",
       "Chauffage        0.318027       0.634333        0.369918   1.000000  0.041673   \n",
       "Duplex           0.021616       0.060192        0.052507   0.041673  1.000000   \n",
       "Meuble           0.136530       0.208739        0.275982   0.183389  0.053534   \n",
       "surface          0.346197       0.223296        0.195941   0.183770  0.100588   \n",
       "age_int         -0.077922      -0.146166       -0.238557  -0.129949  0.021503   \n",
       "chambre_nb       0.051810       0.071761        0.015306   0.061509  0.052797   \n",
       "bain_nb          0.333232       0.251554        0.254323   0.207840  0.098819   \n",
       "etage_nb         0.238161       0.125427        0.063505   0.096771  0.009213   \n",
       "salon_nb         0.181514       0.120207        0.124387   0.104136  0.070876   \n",
       "\n",
       "                  Meuble   surface   age_int  chambre_nb   bain_nb  etage_nb  \\\n",
       "price           0.075036  0.835445  0.069727    0.441690  0.611052  0.169238   \n",
       "Concierge       0.168190  0.276983 -0.070982    0.025208  0.261676  0.137361   \n",
       "Balcon          0.111395  0.168362 -0.116841    0.039996  0.199032  0.149182   \n",
       "Terrasse        0.123938  0.270952 -0.095918    0.068961  0.190987  0.009449   \n",
       "Securite        0.175462  0.182120 -0.155966    0.015347  0.222656  0.071477   \n",
       "Parking         0.163602  0.288265 -0.127992    0.034600  0.273983  0.111443   \n",
       "Ascenseur       0.136530  0.346197 -0.077922    0.051810  0.333232  0.238161   \n",
       "Climatisation   0.208739  0.223296 -0.146166    0.071761  0.251554  0.125427   \n",
       "CuisineEquipee  0.275982  0.195941 -0.238557    0.015306  0.254323  0.063505   \n",
       "Chauffage       0.183389  0.183770 -0.129949    0.061509  0.207840  0.096771   \n",
       "Duplex          0.053534  0.100588  0.021503    0.052797  0.098819  0.009213   \n",
       "Meuble          1.000000  0.050925 -0.031378   -0.012575  0.051060  0.015102   \n",
       "surface         0.050925  1.000000  0.153399    0.577339  0.621329  0.107317   \n",
       "age_int        -0.031378  0.153399  1.000000    0.084427 -0.027382  0.050769   \n",
       "chambre_nb     -0.012575  0.577339  0.084427    1.000000  0.404635  0.081188   \n",
       "bain_nb         0.051060  0.621329 -0.027382    0.404635  1.000000  0.092172   \n",
       "etage_nb        0.015102  0.107317  0.050769    0.081188  0.092172  1.000000   \n",
       "salon_nb        0.038896  0.447463  0.084807    0.184223  0.321016  0.036281   \n",
       "\n",
       "                salon_nb  \n",
       "price           0.359248  \n",
       "Concierge       0.160499  \n",
       "Balcon          0.116447  \n",
       "Terrasse        0.114459  \n",
       "Securite        0.128672  \n",
       "Parking         0.151837  \n",
       "Ascenseur       0.181514  \n",
       "Climatisation   0.120207  \n",
       "CuisineEquipee  0.124387  \n",
       "Chauffage       0.104136  \n",
       "Duplex          0.070876  \n",
       "Meuble          0.038896  \n",
       "surface         0.447463  \n",
       "age_int         0.084807  \n",
       "chambre_nb      0.184223  \n",
       "bain_nb         0.321016  \n",
       "etage_nb        0.036281  \n",
       "salon_nb        1.000000  "
      ]
     },
     "execution_count": 434,
     "metadata": {},
     "output_type": "execute_result"
    }
   ],
   "source": [
    "df3.corr()"
   ]
  },
  {
   "cell_type": "code",
   "execution_count": 435,
   "id": "2ca66f18",
   "metadata": {},
   "outputs": [
    {
     "data": {
      "text/plain": [
       "link\n",
       "https://www.avito.ma/fr/centre_ville/appartements/saroute_appartement__48760839.htm                                                                                                                                                                                       23.332502\n",
       "https://www.avito.ma/fr/bourgogne/appartements/%D8%B4%D9%82%D8%A9_59%D9%85%C2%B2_%D8%AA%D8%B7%D9%84_%D8%B9%D9%84%D9%89_%D9%85%D8%B3%D8%AC%D8%AF_%D8%A7%D9%84%D8%AD%D8%B3%D9%86_%D8%A7%D9%84%D8%AB%D8%A7%D9%86%D9%8A_%D8%A8%D9%88%D8%B1%D9%83%D9%88%D9%86__46176346.htm    -7.638162\n",
       "https://www.avito.ma/fr/sidi_moumen/appartements/Appartements_en_vente_%C3%A0_Casablanca_45673512.htm                                                                                                                                                                     -7.507205\n",
       "https://www.avito.ma/fr/sidi_maarouf/appartements/Appart_133m2_Bouskoura_Mirabel_5min_de_sidimaaroof_44201800.htm                                                                                                                                                         -7.646967\n",
       "https://www.avito.ma/fr/derb_ghallef/appartements/Appartement_%C3%A0_vendre_%C3%A0_Casablanca_Derb_Ghellaf__48690437.htm                                                                                                                                                  -7.630057\n",
       "                                                                                                                                                                                                                                                                            ...    \n",
       "https://www.avito.ma/fr/sidi_bernoussi/appartements/Appartement_en_Vente_%C3%A0_Casablanca_47106435.htm                                                                                                                                                                   -7.500323\n",
       "https://www.avito.ma/fr/sidi_bernoussi/appartements/Appartement_en_Vente_%C3%A0_Casablanca_47106434.htm                                                                                                                                                                   -7.500323\n",
       "https://www.avito.ma/fr/lissasfa/appartements/%D8%B4%D9%82%D8%A9_%D9%84%D9%84%D8%A8%D9%8A%D8%B9__47106064.htm                                                                                                                                                             -7.672426\n",
       "https://www.avito.ma/fr/sidi_maarouf/appartements/Appart_duplex_2_fa%C3%A7ades_en_Vente_%C3%A0_Casablanca_47106004.htm                                                                                                                                                    -7.646967\n",
       "https://www.avito.ma/fr/anfa/appartements/Appartement_en_Vente_%C3%A0_Casablanca_47105280.htm                                                                                                                                                                             -7.618757\n",
       "Name: lon, Length: 3427, dtype: float64"
      ]
     },
     "execution_count": 435,
     "metadata": {},
     "output_type": "execute_result"
    }
   ],
   "source": [
    "df3['lat'] = df3.geocode.apply(lambda x: x[0])\n",
    "df3['lon'] = df3.geocode.apply(lambda x: x[1])\n",
    "df3['lon']"
   ]
  },
  {
   "cell_type": "code",
   "execution_count": 436,
   "id": "f3f3de15",
   "metadata": {},
   "outputs": [
    {
     "name": "stderr",
     "output_type": "stream",
     "text": [
      "C:\\Users\\yassine\\anaconda3\\lib\\site-packages\\seaborn\\_decorators.py:36: FutureWarning: Pass the following variable as a keyword arg: x. From version 0.12, the only valid positional argument will be `data`, and passing other arguments without an explicit keyword will result in an error or misinterpretation.\n",
      "  warnings.warn(\n"
     ]
    },
    {
     "data": {
      "text/plain": [
       "<AxesSubplot:xlabel='lat'>"
      ]
     },
     "execution_count": 436,
     "metadata": {},
     "output_type": "execute_result"
    },
    {
     "data": {
      "image/png": "[encoded data removed]",
      "text/plain": [
       "<Figure size 432x288 with 1 Axes>"
      ]
     },
     "metadata": {
      "needs_background": "light"
     },
     "output_type": "display_data"
    }
   ],
   "source": [
    "sns.boxplot(df3['lat'])"
   ]
  },
  {
   "cell_type": "code",
   "execution_count": 437,
   "id": "7f45c4f5",
   "metadata": {},
   "outputs": [],
   "source": [
    "df3 = df3[(df3['lat']<34)&(df3['lat']>33.4)]"
   ]
  },
  {
   "cell_type": "code",
   "execution_count": 438,
   "id": "ec8c28ba",
   "metadata": {},
   "outputs": [
    {
     "name": "stderr",
     "output_type": "stream",
     "text": [
      "C:\\Users\\yassine\\anaconda3\\lib\\site-packages\\seaborn\\_decorators.py:36: FutureWarning: Pass the following variable as a keyword arg: x. From version 0.12, the only valid positional argument will be `data`, and passing other arguments without an explicit keyword will result in an error or misinterpretation.\n",
      "  warnings.warn(\n"
     ]
    },
    {
     "data": {
      "text/plain": [
       "<AxesSubplot:xlabel='lat'>"
      ]
     },
     "execution_count": 438,
     "metadata": {},
     "output_type": "execute_result"
    },
    {
     "data": {
      "image/png": "[encoded data removed]",
      "text/plain": [
       "<Figure size 432x288 with 1 Axes>"
      ]
     },
     "metadata": {
      "needs_background": "light"
     },
     "output_type": "display_data"
    }
   ],
   "source": [
    "sns.boxplot(df3['lat'])"
   ]
  },
  {
   "cell_type": "code",
   "execution_count": 439,
   "id": "eccd5215",
   "metadata": {},
   "outputs": [
    {
     "name": "stderr",
     "output_type": "stream",
     "text": [
      "C:\\Users\\yassine\\anaconda3\\lib\\site-packages\\seaborn\\_decorators.py:36: FutureWarning: Pass the following variable as a keyword arg: x. From version 0.12, the only valid positional argument will be `data`, and passing other arguments without an explicit keyword will result in an error or misinterpretation.\n",
      "  warnings.warn(\n"
     ]
    },
    {
     "data": {
      "text/plain": [
       "<AxesSubplot:xlabel='lon'>"
      ]
     },
     "execution_count": 439,
     "metadata": {},
     "output_type": "execute_result"
    },
    {
     "data": {
      "image/png": "[encoded data removed]",
      "text/plain": [
       "<Figure size 432x288 with 1 Axes>"
      ]
     },
     "metadata": {
      "needs_background": "light"
     },
     "output_type": "display_data"
    }
   ],
   "source": [
    "sns.boxplot(df3['lon'])"
   ]
  },
  {
   "cell_type": "code",
   "execution_count": 440,
   "id": "253484ec",
   "metadata": {},
   "outputs": [
    {
     "name": "stdout",
     "output_type": "stream",
     "text": [
      "<class 'pandas.core.frame.DataFrame'>\n",
      "Index: 3185 entries, https://www.avito.ma/fr/bourgogne/appartements/%D8%B4%D9%82%D8%A9_59%D9%85%C2%B2_%D8%AA%D8%B7%D9%84_%D8%B9%D9%84%D9%89_%D9%85%D8%B3%D8%AC%D8%AF_%D8%A7%D9%84%D8%AD%D8%B3%D9%86_%D8%A7%D9%84%D8%AB%D8%A7%D9%86%D9%8A_%D8%A8%D9%88%D8%B1%D9%83%D9%88%D9%86__46176346.htm to https://www.avito.ma/fr/anfa/appartements/Appartement_en_Vente_%C3%A0_Casablanca_47105280.htm\n",
      "Data columns (total 21 columns):\n",
      " #   Column          Non-Null Count  Dtype  \n",
      "---  ------          --------------  -----  \n",
      " 0   price           3185 non-null   float64\n",
      " 1   Concierge       3185 non-null   int64  \n",
      " 2   Balcon          3185 non-null   int64  \n",
      " 3   Terrasse        3185 non-null   int64  \n",
      " 4   Securite        3185 non-null   int64  \n",
      " 5   Parking         3185 non-null   int64  \n",
      " 6   Ascenseur       3185 non-null   int64  \n",
      " 7   Climatisation   3185 non-null   int64  \n",
      " 8   CuisineEquipee  3185 non-null   int64  \n",
      " 9   Chauffage       3185 non-null   int64  \n",
      " 10  Duplex          3185 non-null   int64  \n",
      " 11  Meuble          3185 non-null   int64  \n",
      " 12  geocode         3185 non-null   object \n",
      " 13  surface         3185 non-null   float64\n",
      " 14  age_int         3185 non-null   float64\n",
      " 15  chambre_nb      3185 non-null   float64\n",
      " 16  bain_nb         3185 non-null   float64\n",
      " 17  etage_nb        3185 non-null   int64  \n",
      " 18  salon_nb        3185 non-null   int64  \n",
      " 19  lat             3185 non-null   float64\n",
      " 20  lon             3185 non-null   float64\n",
      "dtypes: float64(7), int64(13), object(1)\n",
      "memory usage: 547.4+ KB\n"
     ]
    }
   ],
   "source": [
    "df3.info()"
   ]
  },
  {
   "cell_type": "code",
   "execution_count": 441,
   "id": "52ad650d",
   "metadata": {},
   "outputs": [],
   "source": [
    "df3 = df3.drop(['geocode'], axis=1)"
   ]
  },
  {
   "cell_type": "markdown",
   "id": "e02d7f30",
   "metadata": {},
   "source": [
    "### Train"
   ]
  },
  {
   "cell_type": "code",
   "execution_count": 500,
   "id": "84e6df43",
   "metadata": {},
   "outputs": [],
   "source": [
    "df3 = df3.drop([\"Climatisation\" , \"Meuble\" , \"Ascenseur\" , \"Chauffage\" , \"Duplex\"], axis=1)\n",
    "columns_3 = df3.columns\n",
    "X = df3[columns_3[1:]]\n",
    "y = df3['price']"
   ]
  },
  {
   "cell_type": "code",
   "execution_count": 501,
   "id": "65b5871a",
   "metadata": {},
   "outputs": [],
   "source": [
    "from sklearn.ensemble import RandomForestClassifier\n",
    "from sklearn.model_selection import train_test_split\n",
    "\n",
    "from sklearn import tree\n",
    "from sklearn.tree import DecisionTreeRegressor\n",
    "from sklearn.ensemble import RandomForestRegressor\n",
    "from sklearn.model_selection import train_test_split\n",
    "from sklearn.linear_model import LinearRegression\n",
    "from sklearn.ensemble import RandomForestRegressor\n",
    "from sklearn.metrics import mean_squared_error\n",
    "from sklearn.metrics import mean_absolute_error\n",
    "from sklearn.model_selection import cross_val_score\n",
    "from sklearn.model_selection import GridSearchCV\n",
    "from sklearn.model_selection import RandomizedSearchCV\n",
    "from sklearn.preprocessing import StandardScaler\n",
    "from sklearn.decomposition import PCA\n",
    "import xgboost as xgb"
   ]
  },
  {
   "cell_type": "code",
   "execution_count": 502,
   "id": "9d2ea569",
   "metadata": {},
   "outputs": [],
   "source": [
    "X_train, X_test, y_train, y_test = train_test_split(X, y, test_size=0.33, random_state=42)"
   ]
  },
  {
   "cell_type": "code",
   "execution_count": 503,
   "id": "3ec7be47",
   "metadata": {},
   "outputs": [
    {
     "data": {
      "text/plain": [
       "XGBRegressor(base_score=0.5, booster='gbtree', colsample_bylevel=1,\n",
       "             colsample_bynode=1, colsample_bytree=1, enable_categorical=False,\n",
       "             gamma=0, gpu_id=-1, importance_type=None,\n",
       "             interaction_constraints='', learning_rate=0.300000012,\n",
       "             max_delta_step=0, max_depth=6, min_child_weight=1, missing=nan,\n",
       "             monotone_constraints='()', n_estimators=100, n_jobs=8,\n",
       "             num_parallel_tree=1, predictor='auto', random_state=0, reg_alpha=0,\n",
       "             reg_lambda=1, scale_pos_weight=1, subsample=1, tree_method='exact',\n",
       "             validate_parameters=1, verbosity=None)"
      ]
     },
     "execution_count": 503,
     "metadata": {},
     "output_type": "execute_result"
    }
   ],
   "source": [
    "xgb_model = xgb.XGBRegressor()\n",
    "xgb_model.fit(X_train, y_train)"
   ]
  },
  {
   "cell_type": "code",
   "execution_count": 504,
   "id": "f166a48e",
   "metadata": {},
   "outputs": [],
   "source": [
    "y_pred = xgb_model.predict(X_test)"
   ]
  },
  {
   "cell_type": "code",
   "execution_count": 505,
   "id": "712f5463",
   "metadata": {},
   "outputs": [
    {
     "data": {
      "text/plain": [
       "<AxesSubplot:xlabel='price'>"
      ]
     },
     "execution_count": 505,
     "metadata": {},
     "output_type": "execute_result"
    },
    {
     "data": {
      "image/png": "[encoded data removed]",
      "text/plain": [
       "<Figure size 1440x360 with 1 Axes>"
      ]
     },
     "metadata": {
      "needs_background": "light"
     },
     "output_type": "display_data"
    }
   ],
   "source": [
    "f, ax = plt.subplots(figsize=(20, 5))\n",
    "sns.regplot(x=y_test, y=y_pred)"
   ]
  },
  {
   "cell_type": "code",
   "execution_count": 506,
   "id": "f67269cb",
   "metadata": {},
   "outputs": [
    {
     "data": {
      "text/plain": [
       "0.8422303353256284"
      ]
     },
     "execution_count": 506,
     "metadata": {},
     "output_type": "execute_result"
    }
   ],
   "source": [
    "from sklearn.metrics import r2_score\n",
    "\n",
    "r2_score(y_test, y_pred)"
   ]
  },
  {
   "cell_type": "code",
   "execution_count": 507,
   "id": "59e2b717",
   "metadata": {},
   "outputs": [
    {
     "name": "stdout",
     "output_type": "stream",
     "text": [
      "219482.40017627628\n"
     ]
    }
   ],
   "source": [
    "rf = RandomForestRegressor(random_state=42)\n",
    "rf.fit(X_train, y_train)\n",
    "\n",
    "scores_rf = cross_val_score(rf, X_test, y_test,\n",
    "                         scoring=\"neg_mean_squared_error\", cv=10)\n",
    "rmse_scores_rf = np.sqrt(-scores_rf)\n",
    "print(rmse_scores_rf.mean())"
   ]
  },
  {
   "cell_type": "code",
   "execution_count": 508,
   "id": "2b2db091",
   "metadata": {},
   "outputs": [
    {
     "data": {
      "text/plain": [
       "0.8569548830880034"
      ]
     },
     "execution_count": 508,
     "metadata": {},
     "output_type": "execute_result"
    }
   ],
   "source": [
    "r2_score(y_test, rf.predict(X_test))"
   ]
  },
  {
   "cell_type": "code",
   "execution_count": 509,
   "id": "bbe244ba",
   "metadata": {},
   "outputs": [
    {
     "data": {
      "text/plain": [
       "Index(['Concierge', 'Balcon', 'Terrasse', 'Securite', 'Parking',\n",
       "       'CuisineEquipee', 'surface', 'age_int', 'chambre_nb', 'bain_nb',\n",
       "       'etage_nb', 'salon_nb', 'lat', 'lon'],\n",
       "      dtype='object')"
      ]
     },
     "execution_count": 509,
     "metadata": {},
     "output_type": "execute_result"
    }
   ],
   "source": [
    "X.columns"
   ]
  },
  {
   "cell_type": "code",
   "execution_count": 517,
   "id": "e2666218",
   "metadata": {},
   "outputs": [
    {
     "data": {
      "text/plain": [
       "14"
      ]
     },
     "execution_count": 517,
     "metadata": {},
     "output_type": "execute_result"
    }
   ],
   "source": [
    "# \"Climatisation\" , \"Meuble\" , \"Ascenseur\" , \"Chauffage\" , \"Duplex\"\n",
    "lat_jeb = 33.6243\n",
    "lon_jeb = -7.139\n",
    "lat_bilal = 33.5956\n",
    "lon_bilal = -7.6319\n",
    "X_jeb = [0, 0, 0, 0, 0, 1, 48, 25, 2, 1, 3, 1, lat_jeb, lon_jeb]\n",
    "X_bilal = [0, 1, 0, 1, 0, 1, 205, 15, 6, 3, 2, 2, lat_bilal, lon_bilal]\n",
    "len(X_jeb)"
   ]
  },
  {
   "cell_type": "code",
   "execution_count": 518,
   "id": "d6227c34",
   "metadata": {},
   "outputs": [
    {
     "data": {
      "text/plain": [
       "array([1964849.4], dtype=float32)"
      ]
     },
     "execution_count": 518,
     "metadata": {},
     "output_type": "execute_result"
    }
   ],
   "source": [
    "xgb_model.predict(np.array(X_bilal).reshape(1, -1))"
   ]
  },
  {
   "cell_type": "code",
   "execution_count": 482,
   "id": "11b22bf6",
   "metadata": {},
   "outputs": [],
   "source": [
    "from sklearn.linear_model import LinearRegression"
   ]
  },
  {
   "cell_type": "code",
   "execution_count": 519,
   "id": "4706480d",
   "metadata": {},
   "outputs": [
    {
     "data": {
      "text/plain": [
       "0.787436012225115"
      ]
     },
     "execution_count": 519,
     "metadata": {},
     "output_type": "execute_result"
    }
   ],
   "source": [
    "reg = LinearRegression().fit(X_train, y_train)\n",
    "reg.score(X_test, y_test)"
   ]
  },
  {
   "cell_type": "code",
   "execution_count": null,
   "id": "3e4efea2",
   "metadata": {},
   "outputs": [],
   "source": []
  },
  {
   "cell_type": "code",
   "execution_count": 493,
   "id": "e1250cdc",
   "metadata": {},
   "outputs": [],
   "source": [
    "rfc = RandomForestClassifier()\n",
    "rfc.fit(X,y)\n",
    "importances = rfc.feature_importances_"
   ]
  },
  {
   "cell_type": "code",
   "execution_count": 495,
   "id": "07075b7b",
   "metadata": {},
   "outputs": [
    {
     "data": {
      "text/html": [
       "<div>\n",
       "<style scoped>\n",
       "    .dataframe tbody tr th:only-of-type {\n",
       "        vertical-align: middle;\n",
       "    }\n",
       "\n",
       "    .dataframe tbody tr th {\n",
       "        vertical-align: top;\n",
       "    }\n",
       "\n",
       "    .dataframe thead th {\n",
       "        text-align: right;\n",
       "    }\n",
       "</style>\n",
       "<table border=\"1\" class=\"dataframe\">\n",
       "  <thead>\n",
       "    <tr style=\"text-align: right;\">\n",
       "      <th></th>\n",
       "      <th>importance</th>\n",
       "    </tr>\n",
       "    <tr>\n",
       "      <th>features</th>\n",
       "      <th></th>\n",
       "    </tr>\n",
       "  </thead>\n",
       "  <tbody>\n",
       "    <tr>\n",
       "      <th>surface</th>\n",
       "      <td>0.222850</td>\n",
       "    </tr>\n",
       "    <tr>\n",
       "      <th>etage_nb</th>\n",
       "      <td>0.128699</td>\n",
       "    </tr>\n",
       "    <tr>\n",
       "      <th>lon</th>\n",
       "      <td>0.113014</td>\n",
       "    </tr>\n",
       "    <tr>\n",
       "      <th>lat</th>\n",
       "      <td>0.108432</td>\n",
       "    </tr>\n",
       "    <tr>\n",
       "      <th>age_int</th>\n",
       "      <td>0.105590</td>\n",
       "    </tr>\n",
       "    <tr>\n",
       "      <th>chambre_nb</th>\n",
       "      <td>0.040791</td>\n",
       "    </tr>\n",
       "    <tr>\n",
       "      <th>Balcon</th>\n",
       "      <td>0.037192</td>\n",
       "    </tr>\n",
       "    <tr>\n",
       "      <th>salon_nb</th>\n",
       "      <td>0.028020</td>\n",
       "    </tr>\n",
       "    <tr>\n",
       "      <th>bain_nb</th>\n",
       "      <td>0.027756</td>\n",
       "    </tr>\n",
       "    <tr>\n",
       "      <th>Terrasse</th>\n",
       "      <td>0.027477</td>\n",
       "    </tr>\n",
       "    <tr>\n",
       "      <th>Securite</th>\n",
       "      <td>0.027115</td>\n",
       "    </tr>\n",
       "    <tr>\n",
       "      <th>CuisineEquipee</th>\n",
       "      <td>0.025586</td>\n",
       "    </tr>\n",
       "    <tr>\n",
       "      <th>Parking</th>\n",
       "      <td>0.023850</td>\n",
       "    </tr>\n",
       "    <tr>\n",
       "      <th>Concierge</th>\n",
       "      <td>0.020856</td>\n",
       "    </tr>\n",
       "    <tr>\n",
       "      <th>Climatisation</th>\n",
       "      <td>0.016906</td>\n",
       "    </tr>\n",
       "    <tr>\n",
       "      <th>Meuble</th>\n",
       "      <td>0.015927</td>\n",
       "    </tr>\n",
       "    <tr>\n",
       "      <th>Ascenseur</th>\n",
       "      <td>0.014339</td>\n",
       "    </tr>\n",
       "    <tr>\n",
       "      <th>Chauffage</th>\n",
       "      <td>0.012258</td>\n",
       "    </tr>\n",
       "    <tr>\n",
       "      <th>Duplex</th>\n",
       "      <td>0.003343</td>\n",
       "    </tr>\n",
       "  </tbody>\n",
       "</table>\n",
       "</div>"
      ],
      "text/plain": [
       "                importance\n",
       "features                  \n",
       "surface           0.222850\n",
       "etage_nb          0.128699\n",
       "lon               0.113014\n",
       "lat               0.108432\n",
       "age_int           0.105590\n",
       "chambre_nb        0.040791\n",
       "Balcon            0.037192\n",
       "salon_nb          0.028020\n",
       "bain_nb           0.027756\n",
       "Terrasse          0.027477\n",
       "Securite          0.027115\n",
       "CuisineEquipee    0.025586\n",
       "Parking           0.023850\n",
       "Concierge         0.020856\n",
       "Climatisation     0.016906\n",
       "Meuble            0.015927\n",
       "Ascenseur         0.014339\n",
       "Chauffage         0.012258\n",
       "Duplex            0.003343"
      ]
     },
     "execution_count": 495,
     "metadata": {},
     "output_type": "execute_result"
    }
   ],
   "source": [
    "d = {'features':X.columns, 'importance': importances}\n",
    "df_importance = pd.DataFrame(d)\n",
    "df_importance.set_index('features', inplace=True)\n",
    "df_importance=df_importance.sort_values(by=['importance'], ascending=[False])\n",
    "df_importance"
   ]
  },
  {
   "cell_type": "code",
   "execution_count": 499,
   "id": "0a55cf75",
   "metadata": {},
   "outputs": [
    {
     "data": {
      "image/png": "[encoded data removed]",
      "text/plain": [
       "<Figure size 1152x1008 with 1 Axes>"
      ]
     },
     "metadata": {
      "needs_background": "light"
     },
     "output_type": "display_data"
    }
   ],
   "source": [
    "f, ax = plt.subplots(figsize=(16, 14))\n",
    "ax = sns.barplot(x='importance',y=df_importance.index, data=df_importance)"
   ]
  },
  {
   "cell_type": "code",
   "execution_count": 497,
   "id": "91995553",
   "metadata": {},
   "outputs": [
    {
     "data": {
      "text/plain": [
       "0    2180\n",
       "1    1005\n",
       "Name: Concierge, dtype: int64"
      ]
     },
     "execution_count": 497,
     "metadata": {},
     "output_type": "execute_result"
    }
   ],
   "source": [
    "df3.Concierge.value_counts()"
   ]
  },
  {
   "cell_type": "code",
   "execution_count": null,
   "id": "0622b91d",
   "metadata": {},
   "outputs": [],
   "source": []
  }
 ],
 "metadata": {
  "kernelspec": {
   "display_name": "Python 3 (ipykernel)",
   "language": "python",
   "name": "python3"
  },
  "language_info": {
   "codemirror_mode": {
    "name": "ipython",
    "version": 3
   },
   "file_extension": ".py",
   "mimetype": "text/x-python",
   "name": "python",
   "nbconvert_exporter": "python",
   "pygments_lexer": "ipython3",
   "version": "3.9.7"
  }
 },
 "nbformat": 4,
 "nbformat_minor": 5
}
